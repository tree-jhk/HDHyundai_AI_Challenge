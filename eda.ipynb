{
 "cells": [
  {
   "cell_type": "code",
   "execution_count": 75,
   "metadata": {},
   "outputs": [],
   "source": [
    "import matplotlib.pyplot as plt\n",
    "import pandas as pd\n",
    "import numpy as np\n",
    "import lightgbm as lgb\n",
    "import bisect\n",
    "from tqdm import tqdm\n",
    "from sklearn.metrics import mean_absolute_error\n",
    "from sklearn.preprocessing import LabelEncoder\n",
    "from sklearn.model_selection import KFold\n",
    "import seaborn as sns\n",
    "\n",
    "train = pd.read_csv('train.csv').drop(columns=['SAMPLE_ID'])\n",
    "test = pd.read_csv('test.csv').drop(columns=['SAMPLE_ID'])"
   ]
  },
  {
   "cell_type": "code",
   "execution_count": 7,
   "metadata": {},
   "outputs": [
    {
     "data": {
      "text/html": [
       "<div>\n",
       "<style scoped>\n",
       "    .dataframe tbody tr th:only-of-type {\n",
       "        vertical-align: middle;\n",
       "    }\n",
       "\n",
       "    .dataframe tbody tr th {\n",
       "        vertical-align: top;\n",
       "    }\n",
       "\n",
       "    .dataframe thead th {\n",
       "        text-align: right;\n",
       "    }\n",
       "</style>\n",
       "<table border=\"1\" class=\"dataframe\">\n",
       "  <thead>\n",
       "    <tr style=\"text-align: right;\">\n",
       "      <th></th>\n",
       "      <th>ARI_CO</th>\n",
       "      <th>ARI_PO</th>\n",
       "      <th>SHIP_TYPE_CATEGORY</th>\n",
       "      <th>DIST</th>\n",
       "      <th>ATA</th>\n",
       "      <th>ID</th>\n",
       "      <th>BREADTH</th>\n",
       "      <th>BUILT</th>\n",
       "      <th>DEADWEIGHT</th>\n",
       "      <th>DEPTH</th>\n",
       "      <th>...</th>\n",
       "      <th>V_WIND</th>\n",
       "      <th>AIR_TEMPERATURE</th>\n",
       "      <th>BN</th>\n",
       "      <th>ATA_LT</th>\n",
       "      <th>DUBAI</th>\n",
       "      <th>BRENT</th>\n",
       "      <th>WTI</th>\n",
       "      <th>BDI_ADJ</th>\n",
       "      <th>PORT_SIZE</th>\n",
       "      <th>CI_HOUR</th>\n",
       "    </tr>\n",
       "  </thead>\n",
       "  <tbody>\n",
       "    <tr>\n",
       "      <th>0</th>\n",
       "      <td>CN</td>\n",
       "      <td>EKP8</td>\n",
       "      <td>Bulk</td>\n",
       "      <td>30.736578</td>\n",
       "      <td>2020-10-15 4:03</td>\n",
       "      <td>Z517571</td>\n",
       "      <td>30.0</td>\n",
       "      <td>28</td>\n",
       "      <td>73100</td>\n",
       "      <td>20.0</td>\n",
       "      <td>...</td>\n",
       "      <td>3.77</td>\n",
       "      <td>15.9</td>\n",
       "      <td>2.730798</td>\n",
       "      <td>12</td>\n",
       "      <td>42.01</td>\n",
       "      <td>43.16</td>\n",
       "      <td>40.96</td>\n",
       "      <td>1407.66833</td>\n",
       "      <td>0.00166</td>\n",
       "      <td>3.048333</td>\n",
       "    </tr>\n",
       "  </tbody>\n",
       "</table>\n",
       "<p>1 rows × 26 columns</p>\n",
       "</div>"
      ],
      "text/plain": [
       "  ARI_CO ARI_PO SHIP_TYPE_CATEGORY       DIST              ATA       ID  \\\n",
       "0     CN   EKP8               Bulk  30.736578  2020-10-15 4:03  Z517571   \n",
       "\n",
       "   BREADTH  BUILT  DEADWEIGHT  DEPTH  ...  V_WIND  AIR_TEMPERATURE        BN  \\\n",
       "0     30.0     28       73100   20.0  ...    3.77             15.9  2.730798   \n",
       "\n",
       "  ATA_LT  DUBAI  BRENT    WTI     BDI_ADJ  PORT_SIZE   CI_HOUR  \n",
       "0     12  42.01  43.16  40.96  1407.66833    0.00166  3.048333  \n",
       "\n",
       "[1 rows x 26 columns]"
      ]
     },
     "execution_count": 7,
     "metadata": {},
     "output_type": "execute_result"
    }
   ],
   "source": [
    "train.head(1)"
   ]
  },
  {
   "cell_type": "code",
   "execution_count": 8,
   "metadata": {},
   "outputs": [
    {
     "data": {
      "text/html": [
       "<div>\n",
       "<style scoped>\n",
       "    .dataframe tbody tr th:only-of-type {\n",
       "        vertical-align: middle;\n",
       "    }\n",
       "\n",
       "    .dataframe tbody tr th {\n",
       "        vertical-align: top;\n",
       "    }\n",
       "\n",
       "    .dataframe thead th {\n",
       "        text-align: right;\n",
       "    }\n",
       "</style>\n",
       "<table border=\"1\" class=\"dataframe\">\n",
       "  <thead>\n",
       "    <tr style=\"text-align: right;\">\n",
       "      <th></th>\n",
       "      <th>ARI_CO</th>\n",
       "      <th>ARI_PO</th>\n",
       "      <th>SHIP_TYPE_CATEGORY</th>\n",
       "      <th>DIST</th>\n",
       "      <th>ATA</th>\n",
       "      <th>ID</th>\n",
       "      <th>BREADTH</th>\n",
       "      <th>BUILT</th>\n",
       "      <th>DEADWEIGHT</th>\n",
       "      <th>DEPTH</th>\n",
       "      <th>...</th>\n",
       "      <th>V_WIND</th>\n",
       "      <th>AIR_TEMPERATURE</th>\n",
       "      <th>BN</th>\n",
       "      <th>ATA_LT</th>\n",
       "      <th>DUBAI</th>\n",
       "      <th>BRENT</th>\n",
       "      <th>WTI</th>\n",
       "      <th>BDI_ADJ</th>\n",
       "      <th>PORT_SIZE</th>\n",
       "      <th>CI_HOUR</th>\n",
       "    </tr>\n",
       "  </thead>\n",
       "  <tbody>\n",
       "    <tr>\n",
       "      <th>0</th>\n",
       "      <td>CN</td>\n",
       "      <td>EKP8</td>\n",
       "      <td>Bulk</td>\n",
       "      <td>30.736578</td>\n",
       "      <td>2020-10-15 4:03</td>\n",
       "      <td>Z517571</td>\n",
       "      <td>30.0</td>\n",
       "      <td>28</td>\n",
       "      <td>73100</td>\n",
       "      <td>20.0</td>\n",
       "      <td>...</td>\n",
       "      <td>3.77</td>\n",
       "      <td>15.9</td>\n",
       "      <td>2.730798</td>\n",
       "      <td>12</td>\n",
       "      <td>42.01</td>\n",
       "      <td>43.16</td>\n",
       "      <td>40.96</td>\n",
       "      <td>1407.668330</td>\n",
       "      <td>0.001660</td>\n",
       "      <td>3.048333</td>\n",
       "    </tr>\n",
       "    <tr>\n",
       "      <th>1</th>\n",
       "      <td>CN</td>\n",
       "      <td>EUC8</td>\n",
       "      <td>Container</td>\n",
       "      <td>63.220425</td>\n",
       "      <td>2019-09-17 2:55</td>\n",
       "      <td>U467618</td>\n",
       "      <td>30.0</td>\n",
       "      <td>15</td>\n",
       "      <td>37900</td>\n",
       "      <td>20.0</td>\n",
       "      <td>...</td>\n",
       "      <td>-6.72</td>\n",
       "      <td>24.5</td>\n",
       "      <td>4.289058</td>\n",
       "      <td>10</td>\n",
       "      <td>67.53</td>\n",
       "      <td>64.55</td>\n",
       "      <td>59.34</td>\n",
       "      <td>2089.046774</td>\n",
       "      <td>0.001614</td>\n",
       "      <td>17.138611</td>\n",
       "    </tr>\n",
       "    <tr>\n",
       "      <th>2</th>\n",
       "      <td>CN</td>\n",
       "      <td>NGG6</td>\n",
       "      <td>Container</td>\n",
       "      <td>90.427421</td>\n",
       "      <td>2019-02-23 6:43</td>\n",
       "      <td>V378315</td>\n",
       "      <td>50.0</td>\n",
       "      <td>7</td>\n",
       "      <td>115000</td>\n",
       "      <td>20.0</td>\n",
       "      <td>...</td>\n",
       "      <td>0.00</td>\n",
       "      <td>9.4</td>\n",
       "      <td>0.000000</td>\n",
       "      <td>14</td>\n",
       "      <td>65.30</td>\n",
       "      <td>66.39</td>\n",
       "      <td>56.94</td>\n",
       "      <td>603.193047</td>\n",
       "      <td>0.001743</td>\n",
       "      <td>98.827500</td>\n",
       "    </tr>\n",
       "    <tr>\n",
       "      <th>3</th>\n",
       "      <td>JP</td>\n",
       "      <td>TMR7</td>\n",
       "      <td>Cargo</td>\n",
       "      <td>0.000000</td>\n",
       "      <td>2020-09-18 22:06</td>\n",
       "      <td>B726632</td>\n",
       "      <td>10.0</td>\n",
       "      <td>33</td>\n",
       "      <td>1490</td>\n",
       "      <td>10.0</td>\n",
       "      <td>...</td>\n",
       "      <td>-7.31</td>\n",
       "      <td>22.1</td>\n",
       "      <td>4.693735</td>\n",
       "      <td>7</td>\n",
       "      <td>43.02</td>\n",
       "      <td>43.15</td>\n",
       "      <td>41.11</td>\n",
       "      <td>1169.853455</td>\n",
       "      <td>0.000069</td>\n",
       "      <td>0.000000</td>\n",
       "    </tr>\n",
       "    <tr>\n",
       "      <th>4</th>\n",
       "      <td>RU</td>\n",
       "      <td>NNC2</td>\n",
       "      <td>Container</td>\n",
       "      <td>8.813725</td>\n",
       "      <td>2022-08-13 12:57</td>\n",
       "      <td>D215135</td>\n",
       "      <td>30.0</td>\n",
       "      <td>10</td>\n",
       "      <td>27600</td>\n",
       "      <td>10.0</td>\n",
       "      <td>...</td>\n",
       "      <td>2.31</td>\n",
       "      <td>22.8</td>\n",
       "      <td>2.345875</td>\n",
       "      <td>14</td>\n",
       "      <td>90.45</td>\n",
       "      <td>93.65</td>\n",
       "      <td>88.11</td>\n",
       "      <td>1107.944894</td>\n",
       "      <td>0.000197</td>\n",
       "      <td>96.030556</td>\n",
       "    </tr>\n",
       "    <tr>\n",
       "      <th>...</th>\n",
       "      <td>...</td>\n",
       "      <td>...</td>\n",
       "      <td>...</td>\n",
       "      <td>...</td>\n",
       "      <td>...</td>\n",
       "      <td>...</td>\n",
       "      <td>...</td>\n",
       "      <td>...</td>\n",
       "      <td>...</td>\n",
       "      <td>...</td>\n",
       "      <td>...</td>\n",
       "      <td>...</td>\n",
       "      <td>...</td>\n",
       "      <td>...</td>\n",
       "      <td>...</td>\n",
       "      <td>...</td>\n",
       "      <td>...</td>\n",
       "      <td>...</td>\n",
       "      <td>...</td>\n",
       "      <td>...</td>\n",
       "      <td>...</td>\n",
       "    </tr>\n",
       "    <tr>\n",
       "      <th>367436</th>\n",
       "      <td>CN</td>\n",
       "      <td>YRT6</td>\n",
       "      <td>Bulk</td>\n",
       "      <td>59.018184</td>\n",
       "      <td>2017-11-11 22:23</td>\n",
       "      <td>J661243</td>\n",
       "      <td>40.0</td>\n",
       "      <td>13</td>\n",
       "      <td>93200</td>\n",
       "      <td>20.0</td>\n",
       "      <td>...</td>\n",
       "      <td>NaN</td>\n",
       "      <td>NaN</td>\n",
       "      <td>NaN</td>\n",
       "      <td>6</td>\n",
       "      <td>61.25</td>\n",
       "      <td>62.21</td>\n",
       "      <td>55.70</td>\n",
       "      <td>1333.609109</td>\n",
       "      <td>0.000360</td>\n",
       "      <td>65.850000</td>\n",
       "    </tr>\n",
       "    <tr>\n",
       "      <th>367437</th>\n",
       "      <td>JP</td>\n",
       "      <td>QYY1</td>\n",
       "      <td>Tanker</td>\n",
       "      <td>0.000000</td>\n",
       "      <td>2022-04-29 2:58</td>\n",
       "      <td>D847216</td>\n",
       "      <td>10.0</td>\n",
       "      <td>9</td>\n",
       "      <td>1280</td>\n",
       "      <td>0.0</td>\n",
       "      <td>...</td>\n",
       "      <td>0.87</td>\n",
       "      <td>17.1</td>\n",
       "      <td>1.028558</td>\n",
       "      <td>11</td>\n",
       "      <td>105.37</td>\n",
       "      <td>109.34</td>\n",
       "      <td>104.69</td>\n",
       "      <td>1955.103846</td>\n",
       "      <td>0.000552</td>\n",
       "      <td>0.000000</td>\n",
       "    </tr>\n",
       "    <tr>\n",
       "      <th>367438</th>\n",
       "      <td>SG</td>\n",
       "      <td>GIW5</td>\n",
       "      <td>Container</td>\n",
       "      <td>1.768630</td>\n",
       "      <td>2022-07-14 7:58</td>\n",
       "      <td>Q635545</td>\n",
       "      <td>30.0</td>\n",
       "      <td>6</td>\n",
       "      <td>25000</td>\n",
       "      <td>20.0</td>\n",
       "      <td>...</td>\n",
       "      <td>3.36</td>\n",
       "      <td>31.7</td>\n",
       "      <td>2.557156</td>\n",
       "      <td>15</td>\n",
       "      <td>97.73</td>\n",
       "      <td>99.10</td>\n",
       "      <td>95.78</td>\n",
       "      <td>1601.291086</td>\n",
       "      <td>0.002615</td>\n",
       "      <td>0.997500</td>\n",
       "    </tr>\n",
       "    <tr>\n",
       "      <th>367439</th>\n",
       "      <td>JP</td>\n",
       "      <td>TMR7</td>\n",
       "      <td>Cargo</td>\n",
       "      <td>0.000000</td>\n",
       "      <td>2020-12-22 10:07</td>\n",
       "      <td>N211282</td>\n",
       "      <td>10.0</td>\n",
       "      <td>8</td>\n",
       "      <td>2400</td>\n",
       "      <td>10.0</td>\n",
       "      <td>...</td>\n",
       "      <td>-2.44</td>\n",
       "      <td>10.8</td>\n",
       "      <td>3.055715</td>\n",
       "      <td>19</td>\n",
       "      <td>49.75</td>\n",
       "      <td>50.08</td>\n",
       "      <td>47.02</td>\n",
       "      <td>1191.353331</td>\n",
       "      <td>0.000069</td>\n",
       "      <td>0.000000</td>\n",
       "    </tr>\n",
       "    <tr>\n",
       "      <th>367440</th>\n",
       "      <td>CN</td>\n",
       "      <td>EKP8</td>\n",
       "      <td>Bulk</td>\n",
       "      <td>32.152412</td>\n",
       "      <td>2021-06-04 14:54</td>\n",
       "      <td>V628821</td>\n",
       "      <td>40.0</td>\n",
       "      <td>10</td>\n",
       "      <td>87200</td>\n",
       "      <td>20.0</td>\n",
       "      <td>...</td>\n",
       "      <td>-0.84</td>\n",
       "      <td>19.8</td>\n",
       "      <td>3.177475</td>\n",
       "      <td>22</td>\n",
       "      <td>70.10</td>\n",
       "      <td>71.89</td>\n",
       "      <td>69.62</td>\n",
       "      <td>2115.046707</td>\n",
       "      <td>0.001660</td>\n",
       "      <td>8.464167</td>\n",
       "    </tr>\n",
       "  </tbody>\n",
       "</table>\n",
       "<p>367441 rows × 26 columns</p>\n",
       "</div>"
      ],
      "text/plain": [
       "       ARI_CO ARI_PO SHIP_TYPE_CATEGORY       DIST               ATA       ID  \\\n",
       "0          CN   EKP8               Bulk  30.736578   2020-10-15 4:03  Z517571   \n",
       "1          CN   EUC8          Container  63.220425   2019-09-17 2:55  U467618   \n",
       "2          CN   NGG6          Container  90.427421   2019-02-23 6:43  V378315   \n",
       "3          JP   TMR7              Cargo   0.000000  2020-09-18 22:06  B726632   \n",
       "4          RU   NNC2          Container   8.813725  2022-08-13 12:57  D215135   \n",
       "...       ...    ...                ...        ...               ...      ...   \n",
       "367436     CN   YRT6               Bulk  59.018184  2017-11-11 22:23  J661243   \n",
       "367437     JP   QYY1             Tanker   0.000000   2022-04-29 2:58  D847216   \n",
       "367438     SG   GIW5          Container   1.768630   2022-07-14 7:58  Q635545   \n",
       "367439     JP   TMR7              Cargo   0.000000  2020-12-22 10:07  N211282   \n",
       "367440     CN   EKP8               Bulk  32.152412  2021-06-04 14:54  V628821   \n",
       "\n",
       "        BREADTH  BUILT  DEADWEIGHT  DEPTH  ...  V_WIND  AIR_TEMPERATURE  \\\n",
       "0          30.0     28       73100   20.0  ...    3.77             15.9   \n",
       "1          30.0     15       37900   20.0  ...   -6.72             24.5   \n",
       "2          50.0      7      115000   20.0  ...    0.00              9.4   \n",
       "3          10.0     33        1490   10.0  ...   -7.31             22.1   \n",
       "4          30.0     10       27600   10.0  ...    2.31             22.8   \n",
       "...         ...    ...         ...    ...  ...     ...              ...   \n",
       "367436     40.0     13       93200   20.0  ...     NaN              NaN   \n",
       "367437     10.0      9        1280    0.0  ...    0.87             17.1   \n",
       "367438     30.0      6       25000   20.0  ...    3.36             31.7   \n",
       "367439     10.0      8        2400   10.0  ...   -2.44             10.8   \n",
       "367440     40.0     10       87200   20.0  ...   -0.84             19.8   \n",
       "\n",
       "              BN ATA_LT   DUBAI   BRENT     WTI      BDI_ADJ  PORT_SIZE  \\\n",
       "0       2.730798     12   42.01   43.16   40.96  1407.668330   0.001660   \n",
       "1       4.289058     10   67.53   64.55   59.34  2089.046774   0.001614   \n",
       "2       0.000000     14   65.30   66.39   56.94   603.193047   0.001743   \n",
       "3       4.693735      7   43.02   43.15   41.11  1169.853455   0.000069   \n",
       "4       2.345875     14   90.45   93.65   88.11  1107.944894   0.000197   \n",
       "...          ...    ...     ...     ...     ...          ...        ...   \n",
       "367436       NaN      6   61.25   62.21   55.70  1333.609109   0.000360   \n",
       "367437  1.028558     11  105.37  109.34  104.69  1955.103846   0.000552   \n",
       "367438  2.557156     15   97.73   99.10   95.78  1601.291086   0.002615   \n",
       "367439  3.055715     19   49.75   50.08   47.02  1191.353331   0.000069   \n",
       "367440  3.177475     22   70.10   71.89   69.62  2115.046707   0.001660   \n",
       "\n",
       "          CI_HOUR  \n",
       "0        3.048333  \n",
       "1       17.138611  \n",
       "2       98.827500  \n",
       "3        0.000000  \n",
       "4       96.030556  \n",
       "...           ...  \n",
       "367436  65.850000  \n",
       "367437   0.000000  \n",
       "367438   0.997500  \n",
       "367439   0.000000  \n",
       "367440   8.464167  \n",
       "\n",
       "[367441 rows x 26 columns]"
      ]
     },
     "execution_count": 8,
     "metadata": {},
     "output_type": "execute_result"
    }
   ],
   "source": [
    "train"
   ]
  },
  {
   "cell_type": "code",
   "execution_count": 9,
   "metadata": {},
   "outputs": [
    {
     "name": "stdout",
     "output_type": "stream",
     "text": [
      "<class 'pandas.core.frame.DataFrame'>\n",
      "RangeIndex: 367441 entries, 0 to 367440\n",
      "Data columns (total 26 columns):\n",
      " #   Column              Non-Null Count   Dtype  \n",
      "---  ------              --------------   -----  \n",
      " 0   ARI_CO              367441 non-null  object \n",
      " 1   ARI_PO              367441 non-null  object \n",
      " 2   SHIP_TYPE_CATEGORY  367441 non-null  object \n",
      " 3   DIST                367441 non-null  float64\n",
      " 4   ATA                 367441 non-null  object \n",
      " 5   ID                  367441 non-null  object \n",
      " 6   BREADTH             367440 non-null  float64\n",
      " 7   BUILT               367441 non-null  int64  \n",
      " 8   DEADWEIGHT          367441 non-null  int64  \n",
      " 9   DEPTH               367440 non-null  float64\n",
      " 10  DRAUGHT             367440 non-null  float64\n",
      " 11  GT                  367441 non-null  int64  \n",
      " 12  LENGTH              367440 non-null  float64\n",
      " 13  SHIPMANAGER         367441 non-null  object \n",
      " 14  FLAG                367441 non-null  object \n",
      " 15  U_WIND              213955 non-null  float64\n",
      " 16  V_WIND              213955 non-null  float64\n",
      " 17  AIR_TEMPERATURE     213076 non-null  float64\n",
      " 18  BN                  213955 non-null  float64\n",
      " 19  ATA_LT              367441 non-null  int64  \n",
      " 20  DUBAI               367441 non-null  float64\n",
      " 21  BRENT               367441 non-null  float64\n",
      " 22  WTI                 367441 non-null  float64\n",
      " 23  BDI_ADJ             367441 non-null  float64\n",
      " 24  PORT_SIZE           367441 non-null  float64\n",
      " 25  CI_HOUR             367441 non-null  float64\n",
      "dtypes: float64(15), int64(4), object(7)\n",
      "memory usage: 72.9+ MB\n"
     ]
    }
   ],
   "source": [
    "train.info()"
   ]
  },
  {
   "cell_type": "code",
   "execution_count": 10,
   "metadata": {},
   "outputs": [
    {
     "data": {
      "text/plain": [
       "ARI_CO                     0\n",
       "ARI_PO                     0\n",
       "SHIP_TYPE_CATEGORY         0\n",
       "DIST                       0\n",
       "ATA                        0\n",
       "ID                         0\n",
       "BREADTH                    1\n",
       "BUILT                      0\n",
       "DEADWEIGHT                 0\n",
       "DEPTH                      1\n",
       "DRAUGHT                    1\n",
       "GT                         0\n",
       "LENGTH                     1\n",
       "SHIPMANAGER                0\n",
       "FLAG                       0\n",
       "U_WIND                153486\n",
       "V_WIND                153486\n",
       "AIR_TEMPERATURE       154365\n",
       "BN                    153486\n",
       "ATA_LT                     0\n",
       "DUBAI                      0\n",
       "BRENT                      0\n",
       "WTI                        0\n",
       "BDI_ADJ                    0\n",
       "PORT_SIZE                  0\n",
       "CI_HOUR                    0\n",
       "dtype: int64"
      ]
     },
     "execution_count": 10,
     "metadata": {},
     "output_type": "execute_result"
    }
   ],
   "source": [
    "train.isna().sum()"
   ]
  },
  {
   "cell_type": "code",
   "execution_count": 11,
   "metadata": {},
   "outputs": [
    {
     "data": {
      "text/html": [
       "<div>\n",
       "<style scoped>\n",
       "    .dataframe tbody tr th:only-of-type {\n",
       "        vertical-align: middle;\n",
       "    }\n",
       "\n",
       "    .dataframe tbody tr th {\n",
       "        vertical-align: top;\n",
       "    }\n",
       "\n",
       "    .dataframe thead th {\n",
       "        text-align: right;\n",
       "    }\n",
       "</style>\n",
       "<table border=\"1\" class=\"dataframe\">\n",
       "  <thead>\n",
       "    <tr style=\"text-align: right;\">\n",
       "      <th></th>\n",
       "      <th>ARI_CO</th>\n",
       "      <th>ARI_PO</th>\n",
       "      <th>SHIP_TYPE_CATEGORY</th>\n",
       "      <th>DIST</th>\n",
       "      <th>ATA</th>\n",
       "      <th>ID</th>\n",
       "      <th>BREADTH</th>\n",
       "      <th>BUILT</th>\n",
       "      <th>DEADWEIGHT</th>\n",
       "      <th>DEPTH</th>\n",
       "      <th>...</th>\n",
       "      <th>V_WIND</th>\n",
       "      <th>AIR_TEMPERATURE</th>\n",
       "      <th>BN</th>\n",
       "      <th>ATA_LT</th>\n",
       "      <th>DUBAI</th>\n",
       "      <th>BRENT</th>\n",
       "      <th>WTI</th>\n",
       "      <th>BDI_ADJ</th>\n",
       "      <th>PORT_SIZE</th>\n",
       "      <th>CI_HOUR</th>\n",
       "    </tr>\n",
       "  </thead>\n",
       "  <tbody>\n",
       "    <tr>\n",
       "      <th>0</th>\n",
       "      <td>CN</td>\n",
       "      <td>EKP8</td>\n",
       "      <td>Bulk</td>\n",
       "      <td>30.736578</td>\n",
       "      <td>2020-10-15 4:03</td>\n",
       "      <td>Z517571</td>\n",
       "      <td>30.0</td>\n",
       "      <td>28</td>\n",
       "      <td>73100</td>\n",
       "      <td>20.0</td>\n",
       "      <td>...</td>\n",
       "      <td>3.77</td>\n",
       "      <td>15.9</td>\n",
       "      <td>2.730798</td>\n",
       "      <td>12</td>\n",
       "      <td>42.01</td>\n",
       "      <td>43.16</td>\n",
       "      <td>40.96</td>\n",
       "      <td>1407.668330</td>\n",
       "      <td>0.001660</td>\n",
       "      <td>3.048333</td>\n",
       "    </tr>\n",
       "    <tr>\n",
       "      <th>1</th>\n",
       "      <td>CN</td>\n",
       "      <td>EUC8</td>\n",
       "      <td>Container</td>\n",
       "      <td>63.220425</td>\n",
       "      <td>2019-09-17 2:55</td>\n",
       "      <td>U467618</td>\n",
       "      <td>30.0</td>\n",
       "      <td>15</td>\n",
       "      <td>37900</td>\n",
       "      <td>20.0</td>\n",
       "      <td>...</td>\n",
       "      <td>-6.72</td>\n",
       "      <td>24.5</td>\n",
       "      <td>4.289058</td>\n",
       "      <td>10</td>\n",
       "      <td>67.53</td>\n",
       "      <td>64.55</td>\n",
       "      <td>59.34</td>\n",
       "      <td>2089.046774</td>\n",
       "      <td>0.001614</td>\n",
       "      <td>17.138611</td>\n",
       "    </tr>\n",
       "    <tr>\n",
       "      <th>2</th>\n",
       "      <td>CN</td>\n",
       "      <td>NGG6</td>\n",
       "      <td>Container</td>\n",
       "      <td>90.427421</td>\n",
       "      <td>2019-02-23 6:43</td>\n",
       "      <td>V378315</td>\n",
       "      <td>50.0</td>\n",
       "      <td>7</td>\n",
       "      <td>115000</td>\n",
       "      <td>20.0</td>\n",
       "      <td>...</td>\n",
       "      <td>0.00</td>\n",
       "      <td>9.4</td>\n",
       "      <td>0.000000</td>\n",
       "      <td>14</td>\n",
       "      <td>65.30</td>\n",
       "      <td>66.39</td>\n",
       "      <td>56.94</td>\n",
       "      <td>603.193047</td>\n",
       "      <td>0.001743</td>\n",
       "      <td>98.827500</td>\n",
       "    </tr>\n",
       "    <tr>\n",
       "      <th>3</th>\n",
       "      <td>JP</td>\n",
       "      <td>TMR7</td>\n",
       "      <td>Cargo</td>\n",
       "      <td>0.000000</td>\n",
       "      <td>2020-09-18 22:06</td>\n",
       "      <td>B726632</td>\n",
       "      <td>10.0</td>\n",
       "      <td>33</td>\n",
       "      <td>1490</td>\n",
       "      <td>10.0</td>\n",
       "      <td>...</td>\n",
       "      <td>-7.31</td>\n",
       "      <td>22.1</td>\n",
       "      <td>4.693735</td>\n",
       "      <td>7</td>\n",
       "      <td>43.02</td>\n",
       "      <td>43.15</td>\n",
       "      <td>41.11</td>\n",
       "      <td>1169.853455</td>\n",
       "      <td>0.000069</td>\n",
       "      <td>0.000000</td>\n",
       "    </tr>\n",
       "    <tr>\n",
       "      <th>4</th>\n",
       "      <td>RU</td>\n",
       "      <td>NNC2</td>\n",
       "      <td>Container</td>\n",
       "      <td>8.813725</td>\n",
       "      <td>2022-08-13 12:57</td>\n",
       "      <td>D215135</td>\n",
       "      <td>30.0</td>\n",
       "      <td>10</td>\n",
       "      <td>27600</td>\n",
       "      <td>10.0</td>\n",
       "      <td>...</td>\n",
       "      <td>2.31</td>\n",
       "      <td>22.8</td>\n",
       "      <td>2.345875</td>\n",
       "      <td>14</td>\n",
       "      <td>90.45</td>\n",
       "      <td>93.65</td>\n",
       "      <td>88.11</td>\n",
       "      <td>1107.944894</td>\n",
       "      <td>0.000197</td>\n",
       "      <td>96.030556</td>\n",
       "    </tr>\n",
       "    <tr>\n",
       "      <th>...</th>\n",
       "      <td>...</td>\n",
       "      <td>...</td>\n",
       "      <td>...</td>\n",
       "      <td>...</td>\n",
       "      <td>...</td>\n",
       "      <td>...</td>\n",
       "      <td>...</td>\n",
       "      <td>...</td>\n",
       "      <td>...</td>\n",
       "      <td>...</td>\n",
       "      <td>...</td>\n",
       "      <td>...</td>\n",
       "      <td>...</td>\n",
       "      <td>...</td>\n",
       "      <td>...</td>\n",
       "      <td>...</td>\n",
       "      <td>...</td>\n",
       "      <td>...</td>\n",
       "      <td>...</td>\n",
       "      <td>...</td>\n",
       "      <td>...</td>\n",
       "    </tr>\n",
       "    <tr>\n",
       "      <th>367436</th>\n",
       "      <td>CN</td>\n",
       "      <td>YRT6</td>\n",
       "      <td>Bulk</td>\n",
       "      <td>59.018184</td>\n",
       "      <td>2017-11-11 22:23</td>\n",
       "      <td>J661243</td>\n",
       "      <td>40.0</td>\n",
       "      <td>13</td>\n",
       "      <td>93200</td>\n",
       "      <td>20.0</td>\n",
       "      <td>...</td>\n",
       "      <td>NaN</td>\n",
       "      <td>NaN</td>\n",
       "      <td>NaN</td>\n",
       "      <td>6</td>\n",
       "      <td>61.25</td>\n",
       "      <td>62.21</td>\n",
       "      <td>55.70</td>\n",
       "      <td>1333.609109</td>\n",
       "      <td>0.000360</td>\n",
       "      <td>65.850000</td>\n",
       "    </tr>\n",
       "    <tr>\n",
       "      <th>367437</th>\n",
       "      <td>JP</td>\n",
       "      <td>QYY1</td>\n",
       "      <td>Tanker</td>\n",
       "      <td>0.000000</td>\n",
       "      <td>2022-04-29 2:58</td>\n",
       "      <td>D847216</td>\n",
       "      <td>10.0</td>\n",
       "      <td>9</td>\n",
       "      <td>1280</td>\n",
       "      <td>0.0</td>\n",
       "      <td>...</td>\n",
       "      <td>0.87</td>\n",
       "      <td>17.1</td>\n",
       "      <td>1.028558</td>\n",
       "      <td>11</td>\n",
       "      <td>105.37</td>\n",
       "      <td>109.34</td>\n",
       "      <td>104.69</td>\n",
       "      <td>1955.103846</td>\n",
       "      <td>0.000552</td>\n",
       "      <td>0.000000</td>\n",
       "    </tr>\n",
       "    <tr>\n",
       "      <th>367438</th>\n",
       "      <td>SG</td>\n",
       "      <td>GIW5</td>\n",
       "      <td>Container</td>\n",
       "      <td>1.768630</td>\n",
       "      <td>2022-07-14 7:58</td>\n",
       "      <td>Q635545</td>\n",
       "      <td>30.0</td>\n",
       "      <td>6</td>\n",
       "      <td>25000</td>\n",
       "      <td>20.0</td>\n",
       "      <td>...</td>\n",
       "      <td>3.36</td>\n",
       "      <td>31.7</td>\n",
       "      <td>2.557156</td>\n",
       "      <td>15</td>\n",
       "      <td>97.73</td>\n",
       "      <td>99.10</td>\n",
       "      <td>95.78</td>\n",
       "      <td>1601.291086</td>\n",
       "      <td>0.002615</td>\n",
       "      <td>0.997500</td>\n",
       "    </tr>\n",
       "    <tr>\n",
       "      <th>367439</th>\n",
       "      <td>JP</td>\n",
       "      <td>TMR7</td>\n",
       "      <td>Cargo</td>\n",
       "      <td>0.000000</td>\n",
       "      <td>2020-12-22 10:07</td>\n",
       "      <td>N211282</td>\n",
       "      <td>10.0</td>\n",
       "      <td>8</td>\n",
       "      <td>2400</td>\n",
       "      <td>10.0</td>\n",
       "      <td>...</td>\n",
       "      <td>-2.44</td>\n",
       "      <td>10.8</td>\n",
       "      <td>3.055715</td>\n",
       "      <td>19</td>\n",
       "      <td>49.75</td>\n",
       "      <td>50.08</td>\n",
       "      <td>47.02</td>\n",
       "      <td>1191.353331</td>\n",
       "      <td>0.000069</td>\n",
       "      <td>0.000000</td>\n",
       "    </tr>\n",
       "    <tr>\n",
       "      <th>367440</th>\n",
       "      <td>CN</td>\n",
       "      <td>EKP8</td>\n",
       "      <td>Bulk</td>\n",
       "      <td>32.152412</td>\n",
       "      <td>2021-06-04 14:54</td>\n",
       "      <td>V628821</td>\n",
       "      <td>40.0</td>\n",
       "      <td>10</td>\n",
       "      <td>87200</td>\n",
       "      <td>20.0</td>\n",
       "      <td>...</td>\n",
       "      <td>-0.84</td>\n",
       "      <td>19.8</td>\n",
       "      <td>3.177475</td>\n",
       "      <td>22</td>\n",
       "      <td>70.10</td>\n",
       "      <td>71.89</td>\n",
       "      <td>69.62</td>\n",
       "      <td>2115.046707</td>\n",
       "      <td>0.001660</td>\n",
       "      <td>8.464167</td>\n",
       "    </tr>\n",
       "  </tbody>\n",
       "</table>\n",
       "<p>367441 rows × 26 columns</p>\n",
       "</div>"
      ],
      "text/plain": [
       "       ARI_CO ARI_PO SHIP_TYPE_CATEGORY       DIST               ATA       ID  \\\n",
       "0          CN   EKP8               Bulk  30.736578   2020-10-15 4:03  Z517571   \n",
       "1          CN   EUC8          Container  63.220425   2019-09-17 2:55  U467618   \n",
       "2          CN   NGG6          Container  90.427421   2019-02-23 6:43  V378315   \n",
       "3          JP   TMR7              Cargo   0.000000  2020-09-18 22:06  B726632   \n",
       "4          RU   NNC2          Container   8.813725  2022-08-13 12:57  D215135   \n",
       "...       ...    ...                ...        ...               ...      ...   \n",
       "367436     CN   YRT6               Bulk  59.018184  2017-11-11 22:23  J661243   \n",
       "367437     JP   QYY1             Tanker   0.000000   2022-04-29 2:58  D847216   \n",
       "367438     SG   GIW5          Container   1.768630   2022-07-14 7:58  Q635545   \n",
       "367439     JP   TMR7              Cargo   0.000000  2020-12-22 10:07  N211282   \n",
       "367440     CN   EKP8               Bulk  32.152412  2021-06-04 14:54  V628821   \n",
       "\n",
       "        BREADTH  BUILT  DEADWEIGHT  DEPTH  ...  V_WIND  AIR_TEMPERATURE  \\\n",
       "0          30.0     28       73100   20.0  ...    3.77             15.9   \n",
       "1          30.0     15       37900   20.0  ...   -6.72             24.5   \n",
       "2          50.0      7      115000   20.0  ...    0.00              9.4   \n",
       "3          10.0     33        1490   10.0  ...   -7.31             22.1   \n",
       "4          30.0     10       27600   10.0  ...    2.31             22.8   \n",
       "...         ...    ...         ...    ...  ...     ...              ...   \n",
       "367436     40.0     13       93200   20.0  ...     NaN              NaN   \n",
       "367437     10.0      9        1280    0.0  ...    0.87             17.1   \n",
       "367438     30.0      6       25000   20.0  ...    3.36             31.7   \n",
       "367439     10.0      8        2400   10.0  ...   -2.44             10.8   \n",
       "367440     40.0     10       87200   20.0  ...   -0.84             19.8   \n",
       "\n",
       "              BN ATA_LT   DUBAI   BRENT     WTI      BDI_ADJ  PORT_SIZE  \\\n",
       "0       2.730798     12   42.01   43.16   40.96  1407.668330   0.001660   \n",
       "1       4.289058     10   67.53   64.55   59.34  2089.046774   0.001614   \n",
       "2       0.000000     14   65.30   66.39   56.94   603.193047   0.001743   \n",
       "3       4.693735      7   43.02   43.15   41.11  1169.853455   0.000069   \n",
       "4       2.345875     14   90.45   93.65   88.11  1107.944894   0.000197   \n",
       "...          ...    ...     ...     ...     ...          ...        ...   \n",
       "367436       NaN      6   61.25   62.21   55.70  1333.609109   0.000360   \n",
       "367437  1.028558     11  105.37  109.34  104.69  1955.103846   0.000552   \n",
       "367438  2.557156     15   97.73   99.10   95.78  1601.291086   0.002615   \n",
       "367439  3.055715     19   49.75   50.08   47.02  1191.353331   0.000069   \n",
       "367440  3.177475     22   70.10   71.89   69.62  2115.046707   0.001660   \n",
       "\n",
       "          CI_HOUR  \n",
       "0        3.048333  \n",
       "1       17.138611  \n",
       "2       98.827500  \n",
       "3        0.000000  \n",
       "4       96.030556  \n",
       "...           ...  \n",
       "367436  65.850000  \n",
       "367437   0.000000  \n",
       "367438   0.997500  \n",
       "367439   0.000000  \n",
       "367440   8.464167  \n",
       "\n",
       "[367441 rows x 26 columns]"
      ]
     },
     "execution_count": 11,
     "metadata": {},
     "output_type": "execute_result"
    }
   ],
   "source": [
    "train"
   ]
  },
  {
   "cell_type": "code",
   "execution_count": 12,
   "metadata": {},
   "outputs": [
    {
     "data": {
      "text/html": [
       "<div>\n",
       "<style scoped>\n",
       "    .dataframe tbody tr th:only-of-type {\n",
       "        vertical-align: middle;\n",
       "    }\n",
       "\n",
       "    .dataframe tbody tr th {\n",
       "        vertical-align: top;\n",
       "    }\n",
       "\n",
       "    .dataframe thead th {\n",
       "        text-align: right;\n",
       "    }\n",
       "</style>\n",
       "<table border=\"1\" class=\"dataframe\">\n",
       "  <thead>\n",
       "    <tr style=\"text-align: right;\">\n",
       "      <th></th>\n",
       "      <th>ARI_CO</th>\n",
       "      <th>ARI_PO</th>\n",
       "      <th>SHIP_TYPE_CATEGORY</th>\n",
       "      <th>DIST</th>\n",
       "      <th>ATA</th>\n",
       "      <th>ID</th>\n",
       "      <th>BREADTH</th>\n",
       "      <th>BUILT</th>\n",
       "      <th>DEADWEIGHT</th>\n",
       "      <th>DEPTH</th>\n",
       "      <th>...</th>\n",
       "      <th>V_WIND</th>\n",
       "      <th>AIR_TEMPERATURE</th>\n",
       "      <th>BN</th>\n",
       "      <th>ATA_LT</th>\n",
       "      <th>DUBAI</th>\n",
       "      <th>BRENT</th>\n",
       "      <th>WTI</th>\n",
       "      <th>BDI_ADJ</th>\n",
       "      <th>PORT_SIZE</th>\n",
       "      <th>CI_HOUR</th>\n",
       "    </tr>\n",
       "  </thead>\n",
       "  <tbody>\n",
       "    <tr>\n",
       "      <th>0</th>\n",
       "      <td>CN</td>\n",
       "      <td>EKP8</td>\n",
       "      <td>Bulk</td>\n",
       "      <td>30.736578</td>\n",
       "      <td>2020-10-15 4:03</td>\n",
       "      <td>Z517571</td>\n",
       "      <td>30.0</td>\n",
       "      <td>28</td>\n",
       "      <td>73100</td>\n",
       "      <td>20.0</td>\n",
       "      <td>...</td>\n",
       "      <td>3.77</td>\n",
       "      <td>15.9</td>\n",
       "      <td>2.730798</td>\n",
       "      <td>12</td>\n",
       "      <td>42.01</td>\n",
       "      <td>43.16</td>\n",
       "      <td>40.96</td>\n",
       "      <td>1407.668330</td>\n",
       "      <td>0.001660</td>\n",
       "      <td>3.048333</td>\n",
       "    </tr>\n",
       "    <tr>\n",
       "      <th>1</th>\n",
       "      <td>CN</td>\n",
       "      <td>EUC8</td>\n",
       "      <td>Container</td>\n",
       "      <td>63.220425</td>\n",
       "      <td>2019-09-17 2:55</td>\n",
       "      <td>U467618</td>\n",
       "      <td>30.0</td>\n",
       "      <td>15</td>\n",
       "      <td>37900</td>\n",
       "      <td>20.0</td>\n",
       "      <td>...</td>\n",
       "      <td>-6.72</td>\n",
       "      <td>24.5</td>\n",
       "      <td>4.289058</td>\n",
       "      <td>10</td>\n",
       "      <td>67.53</td>\n",
       "      <td>64.55</td>\n",
       "      <td>59.34</td>\n",
       "      <td>2089.046774</td>\n",
       "      <td>0.001614</td>\n",
       "      <td>17.138611</td>\n",
       "    </tr>\n",
       "    <tr>\n",
       "      <th>2</th>\n",
       "      <td>CN</td>\n",
       "      <td>NGG6</td>\n",
       "      <td>Container</td>\n",
       "      <td>90.427421</td>\n",
       "      <td>2019-02-23 6:43</td>\n",
       "      <td>V378315</td>\n",
       "      <td>50.0</td>\n",
       "      <td>7</td>\n",
       "      <td>115000</td>\n",
       "      <td>20.0</td>\n",
       "      <td>...</td>\n",
       "      <td>0.00</td>\n",
       "      <td>9.4</td>\n",
       "      <td>0.000000</td>\n",
       "      <td>14</td>\n",
       "      <td>65.30</td>\n",
       "      <td>66.39</td>\n",
       "      <td>56.94</td>\n",
       "      <td>603.193047</td>\n",
       "      <td>0.001743</td>\n",
       "      <td>98.827500</td>\n",
       "    </tr>\n",
       "    <tr>\n",
       "      <th>3</th>\n",
       "      <td>JP</td>\n",
       "      <td>TMR7</td>\n",
       "      <td>Cargo</td>\n",
       "      <td>0.000000</td>\n",
       "      <td>2020-09-18 22:06</td>\n",
       "      <td>B726632</td>\n",
       "      <td>10.0</td>\n",
       "      <td>33</td>\n",
       "      <td>1490</td>\n",
       "      <td>10.0</td>\n",
       "      <td>...</td>\n",
       "      <td>-7.31</td>\n",
       "      <td>22.1</td>\n",
       "      <td>4.693735</td>\n",
       "      <td>7</td>\n",
       "      <td>43.02</td>\n",
       "      <td>43.15</td>\n",
       "      <td>41.11</td>\n",
       "      <td>1169.853455</td>\n",
       "      <td>0.000069</td>\n",
       "      <td>0.000000</td>\n",
       "    </tr>\n",
       "    <tr>\n",
       "      <th>4</th>\n",
       "      <td>RU</td>\n",
       "      <td>NNC2</td>\n",
       "      <td>Container</td>\n",
       "      <td>8.813725</td>\n",
       "      <td>2022-08-13 12:57</td>\n",
       "      <td>D215135</td>\n",
       "      <td>30.0</td>\n",
       "      <td>10</td>\n",
       "      <td>27600</td>\n",
       "      <td>10.0</td>\n",
       "      <td>...</td>\n",
       "      <td>2.31</td>\n",
       "      <td>22.8</td>\n",
       "      <td>2.345875</td>\n",
       "      <td>14</td>\n",
       "      <td>90.45</td>\n",
       "      <td>93.65</td>\n",
       "      <td>88.11</td>\n",
       "      <td>1107.944894</td>\n",
       "      <td>0.000197</td>\n",
       "      <td>96.030556</td>\n",
       "    </tr>\n",
       "    <tr>\n",
       "      <th>...</th>\n",
       "      <td>...</td>\n",
       "      <td>...</td>\n",
       "      <td>...</td>\n",
       "      <td>...</td>\n",
       "      <td>...</td>\n",
       "      <td>...</td>\n",
       "      <td>...</td>\n",
       "      <td>...</td>\n",
       "      <td>...</td>\n",
       "      <td>...</td>\n",
       "      <td>...</td>\n",
       "      <td>...</td>\n",
       "      <td>...</td>\n",
       "      <td>...</td>\n",
       "      <td>...</td>\n",
       "      <td>...</td>\n",
       "      <td>...</td>\n",
       "      <td>...</td>\n",
       "      <td>...</td>\n",
       "      <td>...</td>\n",
       "      <td>...</td>\n",
       "    </tr>\n",
       "    <tr>\n",
       "      <th>367434</th>\n",
       "      <td>CN</td>\n",
       "      <td>QQW1</td>\n",
       "      <td>Bulk</td>\n",
       "      <td>55.408765</td>\n",
       "      <td>2022-06-16 14:27</td>\n",
       "      <td>D236761</td>\n",
       "      <td>30.0</td>\n",
       "      <td>16</td>\n",
       "      <td>26500</td>\n",
       "      <td>10.0</td>\n",
       "      <td>...</td>\n",
       "      <td>0.96</td>\n",
       "      <td>28.2</td>\n",
       "      <td>2.651752</td>\n",
       "      <td>22</td>\n",
       "      <td>108.43</td>\n",
       "      <td>114.13</td>\n",
       "      <td>109.56</td>\n",
       "      <td>2067.433444</td>\n",
       "      <td>0.000595</td>\n",
       "      <td>83.960833</td>\n",
       "    </tr>\n",
       "    <tr>\n",
       "      <th>367437</th>\n",
       "      <td>JP</td>\n",
       "      <td>QYY1</td>\n",
       "      <td>Tanker</td>\n",
       "      <td>0.000000</td>\n",
       "      <td>2022-04-29 2:58</td>\n",
       "      <td>D847216</td>\n",
       "      <td>10.0</td>\n",
       "      <td>9</td>\n",
       "      <td>1280</td>\n",
       "      <td>0.0</td>\n",
       "      <td>...</td>\n",
       "      <td>0.87</td>\n",
       "      <td>17.1</td>\n",
       "      <td>1.028558</td>\n",
       "      <td>11</td>\n",
       "      <td>105.37</td>\n",
       "      <td>109.34</td>\n",
       "      <td>104.69</td>\n",
       "      <td>1955.103846</td>\n",
       "      <td>0.000552</td>\n",
       "      <td>0.000000</td>\n",
       "    </tr>\n",
       "    <tr>\n",
       "      <th>367438</th>\n",
       "      <td>SG</td>\n",
       "      <td>GIW5</td>\n",
       "      <td>Container</td>\n",
       "      <td>1.768630</td>\n",
       "      <td>2022-07-14 7:58</td>\n",
       "      <td>Q635545</td>\n",
       "      <td>30.0</td>\n",
       "      <td>6</td>\n",
       "      <td>25000</td>\n",
       "      <td>20.0</td>\n",
       "      <td>...</td>\n",
       "      <td>3.36</td>\n",
       "      <td>31.7</td>\n",
       "      <td>2.557156</td>\n",
       "      <td>15</td>\n",
       "      <td>97.73</td>\n",
       "      <td>99.10</td>\n",
       "      <td>95.78</td>\n",
       "      <td>1601.291086</td>\n",
       "      <td>0.002615</td>\n",
       "      <td>0.997500</td>\n",
       "    </tr>\n",
       "    <tr>\n",
       "      <th>367439</th>\n",
       "      <td>JP</td>\n",
       "      <td>TMR7</td>\n",
       "      <td>Cargo</td>\n",
       "      <td>0.000000</td>\n",
       "      <td>2020-12-22 10:07</td>\n",
       "      <td>N211282</td>\n",
       "      <td>10.0</td>\n",
       "      <td>8</td>\n",
       "      <td>2400</td>\n",
       "      <td>10.0</td>\n",
       "      <td>...</td>\n",
       "      <td>-2.44</td>\n",
       "      <td>10.8</td>\n",
       "      <td>3.055715</td>\n",
       "      <td>19</td>\n",
       "      <td>49.75</td>\n",
       "      <td>50.08</td>\n",
       "      <td>47.02</td>\n",
       "      <td>1191.353331</td>\n",
       "      <td>0.000069</td>\n",
       "      <td>0.000000</td>\n",
       "    </tr>\n",
       "    <tr>\n",
       "      <th>367440</th>\n",
       "      <td>CN</td>\n",
       "      <td>EKP8</td>\n",
       "      <td>Bulk</td>\n",
       "      <td>32.152412</td>\n",
       "      <td>2021-06-04 14:54</td>\n",
       "      <td>V628821</td>\n",
       "      <td>40.0</td>\n",
       "      <td>10</td>\n",
       "      <td>87200</td>\n",
       "      <td>20.0</td>\n",
       "      <td>...</td>\n",
       "      <td>-0.84</td>\n",
       "      <td>19.8</td>\n",
       "      <td>3.177475</td>\n",
       "      <td>22</td>\n",
       "      <td>70.10</td>\n",
       "      <td>71.89</td>\n",
       "      <td>69.62</td>\n",
       "      <td>2115.046707</td>\n",
       "      <td>0.001660</td>\n",
       "      <td>8.464167</td>\n",
       "    </tr>\n",
       "  </tbody>\n",
       "</table>\n",
       "<p>213075 rows × 26 columns</p>\n",
       "</div>"
      ],
      "text/plain": [
       "       ARI_CO ARI_PO SHIP_TYPE_CATEGORY       DIST               ATA       ID  \\\n",
       "0          CN   EKP8               Bulk  30.736578   2020-10-15 4:03  Z517571   \n",
       "1          CN   EUC8          Container  63.220425   2019-09-17 2:55  U467618   \n",
       "2          CN   NGG6          Container  90.427421   2019-02-23 6:43  V378315   \n",
       "3          JP   TMR7              Cargo   0.000000  2020-09-18 22:06  B726632   \n",
       "4          RU   NNC2          Container   8.813725  2022-08-13 12:57  D215135   \n",
       "...       ...    ...                ...        ...               ...      ...   \n",
       "367434     CN   QQW1               Bulk  55.408765  2022-06-16 14:27  D236761   \n",
       "367437     JP   QYY1             Tanker   0.000000   2022-04-29 2:58  D847216   \n",
       "367438     SG   GIW5          Container   1.768630   2022-07-14 7:58  Q635545   \n",
       "367439     JP   TMR7              Cargo   0.000000  2020-12-22 10:07  N211282   \n",
       "367440     CN   EKP8               Bulk  32.152412  2021-06-04 14:54  V628821   \n",
       "\n",
       "        BREADTH  BUILT  DEADWEIGHT  DEPTH  ...  V_WIND  AIR_TEMPERATURE  \\\n",
       "0          30.0     28       73100   20.0  ...    3.77             15.9   \n",
       "1          30.0     15       37900   20.0  ...   -6.72             24.5   \n",
       "2          50.0      7      115000   20.0  ...    0.00              9.4   \n",
       "3          10.0     33        1490   10.0  ...   -7.31             22.1   \n",
       "4          30.0     10       27600   10.0  ...    2.31             22.8   \n",
       "...         ...    ...         ...    ...  ...     ...              ...   \n",
       "367434     30.0     16       26500   10.0  ...    0.96             28.2   \n",
       "367437     10.0      9        1280    0.0  ...    0.87             17.1   \n",
       "367438     30.0      6       25000   20.0  ...    3.36             31.7   \n",
       "367439     10.0      8        2400   10.0  ...   -2.44             10.8   \n",
       "367440     40.0     10       87200   20.0  ...   -0.84             19.8   \n",
       "\n",
       "              BN ATA_LT   DUBAI   BRENT     WTI      BDI_ADJ  PORT_SIZE  \\\n",
       "0       2.730798     12   42.01   43.16   40.96  1407.668330   0.001660   \n",
       "1       4.289058     10   67.53   64.55   59.34  2089.046774   0.001614   \n",
       "2       0.000000     14   65.30   66.39   56.94   603.193047   0.001743   \n",
       "3       4.693735      7   43.02   43.15   41.11  1169.853455   0.000069   \n",
       "4       2.345875     14   90.45   93.65   88.11  1107.944894   0.000197   \n",
       "...          ...    ...     ...     ...     ...          ...        ...   \n",
       "367434  2.651752     22  108.43  114.13  109.56  2067.433444   0.000595   \n",
       "367437  1.028558     11  105.37  109.34  104.69  1955.103846   0.000552   \n",
       "367438  2.557156     15   97.73   99.10   95.78  1601.291086   0.002615   \n",
       "367439  3.055715     19   49.75   50.08   47.02  1191.353331   0.000069   \n",
       "367440  3.177475     22   70.10   71.89   69.62  2115.046707   0.001660   \n",
       "\n",
       "          CI_HOUR  \n",
       "0        3.048333  \n",
       "1       17.138611  \n",
       "2       98.827500  \n",
       "3        0.000000  \n",
       "4       96.030556  \n",
       "...           ...  \n",
       "367434  83.960833  \n",
       "367437   0.000000  \n",
       "367438   0.997500  \n",
       "367439   0.000000  \n",
       "367440   8.464167  \n",
       "\n",
       "[213075 rows x 26 columns]"
      ]
     },
     "execution_count": 12,
     "metadata": {},
     "output_type": "execute_result"
    }
   ],
   "source": [
    "train.dropna()"
   ]
  },
  {
   "cell_type": "code",
   "execution_count": 14,
   "metadata": {},
   "outputs": [],
   "source": [
    "non_object_col = []\n",
    "\n",
    "for col in train.columns:\n",
    "    if train[col].dtype.name != 'object':\n",
    "        non_object_col.append(col)"
   ]
  },
  {
   "cell_type": "code",
   "execution_count": 15,
   "metadata": {},
   "outputs": [
    {
     "data": {
      "text/plain": [
       "['DIST',\n",
       " 'BREADTH',\n",
       " 'BUILT',\n",
       " 'DEADWEIGHT',\n",
       " 'DEPTH',\n",
       " 'DRAUGHT',\n",
       " 'GT',\n",
       " 'LENGTH',\n",
       " 'U_WIND',\n",
       " 'V_WIND',\n",
       " 'AIR_TEMPERATURE',\n",
       " 'BN',\n",
       " 'ATA_LT',\n",
       " 'DUBAI',\n",
       " 'BRENT',\n",
       " 'WTI',\n",
       " 'BDI_ADJ',\n",
       " 'PORT_SIZE',\n",
       " 'CI_HOUR']"
      ]
     },
     "execution_count": 15,
     "metadata": {},
     "output_type": "execute_result"
    }
   ],
   "source": [
    "non_object_col"
   ]
  },
  {
   "cell_type": "code",
   "execution_count": 16,
   "metadata": {},
   "outputs": [],
   "source": [
    "tmp = train[non_object_col].dropna()"
   ]
  },
  {
   "cell_type": "code",
   "execution_count": 17,
   "metadata": {},
   "outputs": [
    {
     "data": {
      "image/png": "[encoded data removed]",
      "text/plain": [
       "<Figure size 576x432 with 1 Axes>"
      ]
     },
     "metadata": {
      "needs_background": "light"
     },
     "output_type": "display_data"
    },
    {
     "data": {
      "image/png": "[encoded data removed]",
      "text/plain": [
       "<Figure size 576x432 with 1 Axes>"
      ]
     },
     "metadata": {
      "needs_background": "light"
     },
     "output_type": "display_data"
    },
    {
     "data": {
      "image/png": "[encoded data removed]",
      "text/plain": [
       "<Figure size 576x432 with 1 Axes>"
      ]
     },
     "metadata": {
      "needs_background": "light"
     },
     "output_type": "display_data"
    },
    {
     "data": {
      "image/png": "[encoded data removed]",
      "text/plain": [
       "<Figure size 576x432 with 1 Axes>"
      ]
     },
     "metadata": {
      "needs_background": "light"
     },
     "output_type": "display_data"
    },
    {
     "data": {
      "image/png": "[encoded data removed]",
      "text/plain": [
       "<Figure size 576x432 with 1 Axes>"
      ]
     },
     "metadata": {
      "needs_background": "light"
     },
     "output_type": "display_data"
    },
    {
     "data": {
      "image/png": "[encoded data removed]",
      "text/plain": [
       "<Figure size 576x432 with 1 Axes>"
      ]
     },
     "metadata": {
      "needs_background": "light"
     },
     "output_type": "display_data"
    },
    {
     "data": {
      "image/png": "[encoded data removed]",
      "text/plain": [
       "<Figure size 576x432 with 1 Axes>"
      ]
     },
     "metadata": {
      "needs_background": "light"
     },
     "output_type": "display_data"
    },
    {
     "data": {
      "image/png": "[encoded data removed]",
      "text/plain": [
       "<Figure size 576x432 with 1 Axes>"
      ]
     },
     "metadata": {
      "needs_background": "light"
     },
     "output_type": "display_data"
    },
    {
     "data": {
      "image/png": "[encoded data removed]",
      "text/plain": [
       "<Figure size 576x432 with 1 Axes>"
      ]
     },
     "metadata": {
      "needs_background": "light"
     },
     "output_type": "display_data"
    },
    {
     "data": {
      "image/png": "[encoded data removed]",
      "text/plain": [
       "<Figure size 576x432 with 1 Axes>"
      ]
     },
     "metadata": {
      "needs_background": "light"
     },
     "output_type": "display_data"
    },
    {
     "data": {
      "image/png": "[encoded data removed]",
      "text/plain": [
       "<Figure size 576x432 with 1 Axes>"
      ]
     },
     "metadata": {
      "needs_background": "light"
     },
     "output_type": "display_data"
    },
    {
     "data": {
      "image/png": "[encoded data removed]",
      "text/plain": [
       "<Figure size 576x432 with 1 Axes>"
      ]
     },
     "metadata": {
      "needs_background": "light"
     },
     "output_type": "display_data"
    },
    {
     "data": {
      "image/png": "[encoded data removed]",
      "text/plain": [
       "<Figure size 576x432 with 1 Axes>"
      ]
     },
     "metadata": {
      "needs_background": "light"
     },
     "output_type": "display_data"
    },
    {
     "data": {
      "image/png": "[encoded data removed]",
      "text/plain": [
       "<Figure size 576x432 with 1 Axes>"
      ]
     },
     "metadata": {
      "needs_background": "light"
     },
     "output_type": "display_data"
    },
    {
     "data": {
      "image/png": "[encoded data removed]",
      "text/plain": [
       "<Figure size 576x432 with 1 Axes>"
      ]
     },
     "metadata": {
      "needs_background": "light"
     },
     "output_type": "display_data"
    },
    {
     "data": {
      "image/png": "[encoded data removed]",
      "text/plain": [
       "<Figure size 576x432 with 1 Axes>"
      ]
     },
     "metadata": {
      "needs_background": "light"
     },
     "output_type": "display_data"
    },
    {
     "data": {
      "image/png": "[encoded data removed]",
      "text/plain": [
       "<Figure size 576x432 with 1 Axes>"
      ]
     },
     "metadata": {
      "needs_background": "light"
     },
     "output_type": "display_data"
    },
    {
     "data": {
      "image/png": "[encoded data removed]",
      "text/plain": [
       "<Figure size 576x432 with 1 Axes>"
      ]
     },
     "metadata": {
      "needs_background": "light"
     },
     "output_type": "display_data"
    },
    {
     "data": {
      "image/png": "[encoded data removed]",
      "text/plain": [
       "<Figure size 576x432 with 1 Axes>"
      ]
     },
     "metadata": {
      "needs_background": "light"
     },
     "output_type": "display_data"
    }
   ],
   "source": [
    "for col in non_object_col:\n",
    "    plt.figure(figsize=(8, 6))  # 새로운 그림을 생성합니다.\n",
    "    sns.histplot(x=tmp[col])  # 현재 칼럼에 대한 히스토그램을 그립니다.\n",
    "    plt.title(f'Distribution of {col}')  # 그래프 제목을 설정합니다.\n",
    "    plt.show()  # 그림을 화면에 출력합니다."
   ]
  },
  {
   "cell_type": "code",
   "execution_count": 20,
   "metadata": {},
   "outputs": [],
   "source": [
    "contin_train = train[non_object_col].dropna()"
   ]
  },
  {
   "cell_type": "code",
   "execution_count": 21,
   "metadata": {},
   "outputs": [
    {
     "name": "stdout",
     "output_type": "stream",
     "text": [
      "len(contin_train[(contin_train.DIST == 0)])=80293\n",
      "len(contin_train[(contin_train.DIST == 0) & ~(contin_train.CI_HOUR == 0)])=23\n",
      "len(contin_train[(contin_train.DIST == 0) & (contin_train.CI_HOUR == 0)])=80270\n"
     ]
    }
   ],
   "source": [
    "# DIST 0 분석\n",
    "print(f\"{len(contin_train[(contin_train.DIST == 0)])=}\")\n",
    "print(f\"{len(contin_train[(contin_train.DIST == 0) & ~(contin_train.CI_HOUR == 0)])=}\")\n",
    "print(f\"{len(contin_train[(contin_train.DIST == 0) & (contin_train.CI_HOUR == 0)])=}\")"
   ]
  },
  {
   "cell_type": "markdown",
   "metadata": {},
   "source": [
    "- DIST(정박지(ber_port)와 접안지 사이의 거리) = 0 -> 당연히 CI_HOUR == 0 이어야 하는데 \n",
    "- DIST = 0 인데, CI_HOUR != 0인 경우 -> 23개 -> 다른 feature들에서 23개와 나머지의 분명한 차이가 있거나, 잘못 측정된 값일 수도"
   ]
  },
  {
   "cell_type": "code",
   "execution_count": 22,
   "metadata": {},
   "outputs": [
    {
     "data": {
      "text/plain": [
       "<matplotlib.axes._subplots.AxesSubplot at 0x2321e01bb20>"
      ]
     },
     "execution_count": 22,
     "metadata": {},
     "output_type": "execute_result"
    },
    {
     "data": {
      "image/png": "[encoded data removed]",
      "text/plain": [
       "<Figure size 432x288 with 1 Axes>"
      ]
     },
     "metadata": {
      "needs_background": "light"
     },
     "output_type": "display_data"
    }
   ],
   "source": [
    "# DIST 0 제외하고 DIST plot하기\n",
    "sns.histplot(x=contin_train[~(contin_train.DIST == 0)]['DIST'])"
   ]
  },
  {
   "cell_type": "code",
   "execution_count": 23,
   "metadata": {},
   "outputs": [
    {
     "data": {
      "text/plain": [
       "48067"
      ]
     },
     "execution_count": 23,
     "metadata": {},
     "output_type": "execute_result"
    }
   ],
   "source": [
    "len(contin_train[(contin_train.DEADWEIGHT <= 10000)])"
   ]
  },
  {
   "cell_type": "code",
   "execution_count": 24,
   "metadata": {},
   "outputs": [
    {
     "data": {
      "text/plain": [
       "213075"
      ]
     },
     "execution_count": 24,
     "metadata": {},
     "output_type": "execute_result"
    }
   ],
   "source": [
    "len(contin_train)"
   ]
  },
  {
   "cell_type": "code",
   "execution_count": 25,
   "metadata": {},
   "outputs": [
    {
     "data": {
      "text/html": [
       "<div>\n",
       "<style scoped>\n",
       "    .dataframe tbody tr th:only-of-type {\n",
       "        vertical-align: middle;\n",
       "    }\n",
       "\n",
       "    .dataframe tbody tr th {\n",
       "        vertical-align: top;\n",
       "    }\n",
       "\n",
       "    .dataframe thead th {\n",
       "        text-align: right;\n",
       "    }\n",
       "</style>\n",
       "<table border=\"1\" class=\"dataframe\">\n",
       "  <thead>\n",
       "    <tr style=\"text-align: right;\">\n",
       "      <th></th>\n",
       "      <th>DIST</th>\n",
       "      <th>BREADTH</th>\n",
       "      <th>BUILT</th>\n",
       "      <th>DEADWEIGHT</th>\n",
       "      <th>DEPTH</th>\n",
       "      <th>DRAUGHT</th>\n",
       "      <th>GT</th>\n",
       "      <th>LENGTH</th>\n",
       "      <th>U_WIND</th>\n",
       "      <th>V_WIND</th>\n",
       "      <th>AIR_TEMPERATURE</th>\n",
       "      <th>BN</th>\n",
       "      <th>ATA_LT</th>\n",
       "      <th>DUBAI</th>\n",
       "      <th>BRENT</th>\n",
       "      <th>WTI</th>\n",
       "      <th>BDI_ADJ</th>\n",
       "      <th>PORT_SIZE</th>\n",
       "      <th>CI_HOUR</th>\n",
       "    </tr>\n",
       "  </thead>\n",
       "  <tbody>\n",
       "    <tr>\n",
       "      <th>0</th>\n",
       "      <td>30.736578</td>\n",
       "      <td>30.0</td>\n",
       "      <td>28</td>\n",
       "      <td>73100</td>\n",
       "      <td>20.0</td>\n",
       "      <td>10.0</td>\n",
       "      <td>38600</td>\n",
       "      <td>220.0</td>\n",
       "      <td>0.14</td>\n",
       "      <td>3.77</td>\n",
       "      <td>15.9</td>\n",
       "      <td>2.730798</td>\n",
       "      <td>12</td>\n",
       "      <td>42.01</td>\n",
       "      <td>43.16</td>\n",
       "      <td>40.96</td>\n",
       "      <td>1407.668330</td>\n",
       "      <td>0.001660</td>\n",
       "      <td>3.048333</td>\n",
       "    </tr>\n",
       "    <tr>\n",
       "      <th>2</th>\n",
       "      <td>90.427421</td>\n",
       "      <td>50.0</td>\n",
       "      <td>7</td>\n",
       "      <td>115000</td>\n",
       "      <td>20.0</td>\n",
       "      <td>10.0</td>\n",
       "      <td>96400</td>\n",
       "      <td>300.0</td>\n",
       "      <td>0.00</td>\n",
       "      <td>0.00</td>\n",
       "      <td>9.4</td>\n",
       "      <td>0.000000</td>\n",
       "      <td>14</td>\n",
       "      <td>65.30</td>\n",
       "      <td>66.39</td>\n",
       "      <td>56.94</td>\n",
       "      <td>603.193047</td>\n",
       "      <td>0.001743</td>\n",
       "      <td>98.827500</td>\n",
       "    </tr>\n",
       "    <tr>\n",
       "      <th>7</th>\n",
       "      <td>3.948892</td>\n",
       "      <td>30.0</td>\n",
       "      <td>10</td>\n",
       "      <td>28400</td>\n",
       "      <td>10.0</td>\n",
       "      <td>10.0</td>\n",
       "      <td>17000</td>\n",
       "      <td>170.0</td>\n",
       "      <td>0.00</td>\n",
       "      <td>0.00</td>\n",
       "      <td>21.8</td>\n",
       "      <td>0.000000</td>\n",
       "      <td>12</td>\n",
       "      <td>61.22</td>\n",
       "      <td>61.82</td>\n",
       "      <td>53.76</td>\n",
       "      <td>1084.553949</td>\n",
       "      <td>0.000479</td>\n",
       "      <td>31.208056</td>\n",
       "    </tr>\n",
       "    <tr>\n",
       "      <th>17</th>\n",
       "      <td>12.761741</td>\n",
       "      <td>20.0</td>\n",
       "      <td>11</td>\n",
       "      <td>7220</td>\n",
       "      <td>10.0</td>\n",
       "      <td>10.0</td>\n",
       "      <td>5910</td>\n",
       "      <td>120.0</td>\n",
       "      <td>0.47</td>\n",
       "      <td>-3.09</td>\n",
       "      <td>25.2</td>\n",
       "      <td>2.408865</td>\n",
       "      <td>1</td>\n",
       "      <td>89.80</td>\n",
       "      <td>92.65</td>\n",
       "      <td>85.83</td>\n",
       "      <td>1094.995837</td>\n",
       "      <td>0.002615</td>\n",
       "      <td>122.921389</td>\n",
       "    </tr>\n",
       "    <tr>\n",
       "      <th>24</th>\n",
       "      <td>6.450414</td>\n",
       "      <td>20.0</td>\n",
       "      <td>19</td>\n",
       "      <td>12600</td>\n",
       "      <td>10.0</td>\n",
       "      <td>10.0</td>\n",
       "      <td>9570</td>\n",
       "      <td>140.0</td>\n",
       "      <td>0.45</td>\n",
       "      <td>-1.07</td>\n",
       "      <td>-6.8</td>\n",
       "      <td>1.244595</td>\n",
       "      <td>12</td>\n",
       "      <td>90.42</td>\n",
       "      <td>90.78</td>\n",
       "      <td>89.36</td>\n",
       "      <td>1239.530083</td>\n",
       "      <td>0.000399</td>\n",
       "      <td>377.975833</td>\n",
       "    </tr>\n",
       "    <tr>\n",
       "      <th>...</th>\n",
       "      <td>...</td>\n",
       "      <td>...</td>\n",
       "      <td>...</td>\n",
       "      <td>...</td>\n",
       "      <td>...</td>\n",
       "      <td>...</td>\n",
       "      <td>...</td>\n",
       "      <td>...</td>\n",
       "      <td>...</td>\n",
       "      <td>...</td>\n",
       "      <td>...</td>\n",
       "      <td>...</td>\n",
       "      <td>...</td>\n",
       "      <td>...</td>\n",
       "      <td>...</td>\n",
       "      <td>...</td>\n",
       "      <td>...</td>\n",
       "      <td>...</td>\n",
       "      <td>...</td>\n",
       "    </tr>\n",
       "    <tr>\n",
       "      <th>367398</th>\n",
       "      <td>0.000000</td>\n",
       "      <td>20.0</td>\n",
       "      <td>11</td>\n",
       "      <td>11900</td>\n",
       "      <td>10.0</td>\n",
       "      <td>10.0</td>\n",
       "      <td>9890</td>\n",
       "      <td>150.0</td>\n",
       "      <td>0.00</td>\n",
       "      <td>0.00</td>\n",
       "      <td>17.2</td>\n",
       "      <td>0.000000</td>\n",
       "      <td>22</td>\n",
       "      <td>71.07</td>\n",
       "      <td>71.97</td>\n",
       "      <td>64.00</td>\n",
       "      <td>726.567468</td>\n",
       "      <td>0.000552</td>\n",
       "      <td>0.000000</td>\n",
       "    </tr>\n",
       "    <tr>\n",
       "      <th>367399</th>\n",
       "      <td>9.733672</td>\n",
       "      <td>20.0</td>\n",
       "      <td>34</td>\n",
       "      <td>5480</td>\n",
       "      <td>10.0</td>\n",
       "      <td>10.0</td>\n",
       "      <td>4110</td>\n",
       "      <td>100.0</td>\n",
       "      <td>0.00</td>\n",
       "      <td>0.00</td>\n",
       "      <td>10.1</td>\n",
       "      <td>0.000000</td>\n",
       "      <td>20</td>\n",
       "      <td>69.22</td>\n",
       "      <td>71.24</td>\n",
       "      <td>62.25</td>\n",
       "      <td>905.629735</td>\n",
       "      <td>0.000256</td>\n",
       "      <td>4.621944</td>\n",
       "    </tr>\n",
       "    <tr>\n",
       "      <th>367401</th>\n",
       "      <td>0.000000</td>\n",
       "      <td>30.0</td>\n",
       "      <td>10</td>\n",
       "      <td>26100</td>\n",
       "      <td>10.0</td>\n",
       "      <td>10.0</td>\n",
       "      <td>16100</td>\n",
       "      <td>160.0</td>\n",
       "      <td>0.00</td>\n",
       "      <td>0.00</td>\n",
       "      <td>22.4</td>\n",
       "      <td>0.000000</td>\n",
       "      <td>17</td>\n",
       "      <td>67.12</td>\n",
       "      <td>66.87</td>\n",
       "      <td>56.59</td>\n",
       "      <td>1008.604892</td>\n",
       "      <td>0.000264</td>\n",
       "      <td>0.000000</td>\n",
       "    </tr>\n",
       "    <tr>\n",
       "      <th>367407</th>\n",
       "      <td>19.039627</td>\n",
       "      <td>40.0</td>\n",
       "      <td>19</td>\n",
       "      <td>73200</td>\n",
       "      <td>20.0</td>\n",
       "      <td>10.0</td>\n",
       "      <td>65200</td>\n",
       "      <td>280.0</td>\n",
       "      <td>0.00</td>\n",
       "      <td>0.00</td>\n",
       "      <td>35.6</td>\n",
       "      <td>0.000000</td>\n",
       "      <td>9</td>\n",
       "      <td>71.63</td>\n",
       "      <td>72.18</td>\n",
       "      <td>63.60</td>\n",
       "      <td>947.923103</td>\n",
       "      <td>0.002615</td>\n",
       "      <td>289.962500</td>\n",
       "    </tr>\n",
       "    <tr>\n",
       "      <th>367416</th>\n",
       "      <td>4.862574</td>\n",
       "      <td>30.0</td>\n",
       "      <td>28</td>\n",
       "      <td>45300</td>\n",
       "      <td>20.0</td>\n",
       "      <td>10.0</td>\n",
       "      <td>25100</td>\n",
       "      <td>190.0</td>\n",
       "      <td>0.38</td>\n",
       "      <td>-1.02</td>\n",
       "      <td>-5.1</td>\n",
       "      <td>1.192369</td>\n",
       "      <td>16</td>\n",
       "      <td>47.49</td>\n",
       "      <td>47.80</td>\n",
       "      <td>45.71</td>\n",
       "      <td>1097.040642</td>\n",
       "      <td>0.000177</td>\n",
       "      <td>1.499444</td>\n",
       "    </tr>\n",
       "  </tbody>\n",
       "</table>\n",
       "<p>24999 rows × 19 columns</p>\n",
       "</div>"
      ],
      "text/plain": [
       "             DIST  BREADTH  BUILT  DEADWEIGHT  DEPTH  DRAUGHT     GT  LENGTH  \\\n",
       "0       30.736578     30.0     28       73100   20.0     10.0  38600   220.0   \n",
       "2       90.427421     50.0      7      115000   20.0     10.0  96400   300.0   \n",
       "7        3.948892     30.0     10       28400   10.0     10.0  17000   170.0   \n",
       "17      12.761741     20.0     11        7220   10.0     10.0   5910   120.0   \n",
       "24       6.450414     20.0     19       12600   10.0     10.0   9570   140.0   \n",
       "...           ...      ...    ...         ...    ...      ...    ...     ...   \n",
       "367398   0.000000     20.0     11       11900   10.0     10.0   9890   150.0   \n",
       "367399   9.733672     20.0     34        5480   10.0     10.0   4110   100.0   \n",
       "367401   0.000000     30.0     10       26100   10.0     10.0  16100   160.0   \n",
       "367407  19.039627     40.0     19       73200   20.0     10.0  65200   280.0   \n",
       "367416   4.862574     30.0     28       45300   20.0     10.0  25100   190.0   \n",
       "\n",
       "        U_WIND  V_WIND  AIR_TEMPERATURE        BN  ATA_LT  DUBAI  BRENT  \\\n",
       "0         0.14    3.77             15.9  2.730798      12  42.01  43.16   \n",
       "2         0.00    0.00              9.4  0.000000      14  65.30  66.39   \n",
       "7         0.00    0.00             21.8  0.000000      12  61.22  61.82   \n",
       "17        0.47   -3.09             25.2  2.408865       1  89.80  92.65   \n",
       "24        0.45   -1.07             -6.8  1.244595      12  90.42  90.78   \n",
       "...        ...     ...              ...       ...     ...    ...    ...   \n",
       "367398    0.00    0.00             17.2  0.000000      22  71.07  71.97   \n",
       "367399    0.00    0.00             10.1  0.000000      20  69.22  71.24   \n",
       "367401    0.00    0.00             22.4  0.000000      17  67.12  66.87   \n",
       "367407    0.00    0.00             35.6  0.000000       9  71.63  72.18   \n",
       "367416    0.38   -1.02             -5.1  1.192369      16  47.49  47.80   \n",
       "\n",
       "          WTI      BDI_ADJ  PORT_SIZE     CI_HOUR  \n",
       "0       40.96  1407.668330   0.001660    3.048333  \n",
       "2       56.94   603.193047   0.001743   98.827500  \n",
       "7       53.76  1084.553949   0.000479   31.208056  \n",
       "17      85.83  1094.995837   0.002615  122.921389  \n",
       "24      89.36  1239.530083   0.000399  377.975833  \n",
       "...       ...          ...        ...         ...  \n",
       "367398  64.00   726.567468   0.000552    0.000000  \n",
       "367399  62.25   905.629735   0.000256    4.621944  \n",
       "367401  56.59  1008.604892   0.000264    0.000000  \n",
       "367407  63.60   947.923103   0.002615  289.962500  \n",
       "367416  45.71  1097.040642   0.000177    1.499444  \n",
       "\n",
       "[24999 rows x 19 columns]"
      ]
     },
     "execution_count": 25,
     "metadata": {},
     "output_type": "execute_result"
    }
   ],
   "source": [
    "contin_train[(contin_train.U_WIND <= 0.5) & (contin_train.U_WIND >= 0)]"
   ]
  },
  {
   "cell_type": "code",
   "execution_count": 26,
   "metadata": {},
   "outputs": [
    {
     "name": "stdout",
     "output_type": "stream",
     "text": [
      "len(contin_train[(contin_train.U_WIND == 0)])=11797\n",
      "len(contin_train[(contin_train.V_WIND == 0)])=11773\n",
      "len(contin_train[(contin_train.U_WIND == 0) & (contin_train.V_WIND == 0)])=11557\n",
      "len(contin_train[~(contin_train.U_WIND == 0) & (contin_train.V_WIND == 0)])=216\n",
      "len(contin_train[(contin_train.U_WIND == 0) & ~(contin_train.V_WIND == 0)])=240\n"
     ]
    }
   ],
   "source": [
    "print(f\"{len(contin_train[(contin_train.U_WIND == 0)])=}\")\n",
    "print(f\"{len(contin_train[(contin_train.V_WIND == 0)])=}\")\n",
    "print(f\"{len(contin_train[(contin_train.U_WIND == 0) & (contin_train.V_WIND == 0)])=}\")\n",
    "print(f\"{len(contin_train[~(contin_train.U_WIND == 0) & (contin_train.V_WIND == 0)])=}\")\n",
    "print(f\"{len(contin_train[(contin_train.U_WIND == 0) & ~(contin_train.V_WIND == 0)])=}\")"
   ]
  },
  {
   "cell_type": "code",
   "execution_count": 27,
   "metadata": {},
   "outputs": [
    {
     "data": {
      "text/html": [
       "<div>\n",
       "<style scoped>\n",
       "    .dataframe tbody tr th:only-of-type {\n",
       "        vertical-align: middle;\n",
       "    }\n",
       "\n",
       "    .dataframe tbody tr th {\n",
       "        vertical-align: top;\n",
       "    }\n",
       "\n",
       "    .dataframe thead th {\n",
       "        text-align: right;\n",
       "    }\n",
       "</style>\n",
       "<table border=\"1\" class=\"dataframe\">\n",
       "  <thead>\n",
       "    <tr style=\"text-align: right;\">\n",
       "      <th></th>\n",
       "      <th>DIST</th>\n",
       "      <th>BREADTH</th>\n",
       "      <th>BUILT</th>\n",
       "      <th>DEADWEIGHT</th>\n",
       "      <th>DEPTH</th>\n",
       "      <th>DRAUGHT</th>\n",
       "      <th>GT</th>\n",
       "      <th>LENGTH</th>\n",
       "      <th>U_WIND</th>\n",
       "      <th>V_WIND</th>\n",
       "      <th>AIR_TEMPERATURE</th>\n",
       "      <th>BN</th>\n",
       "      <th>ATA_LT</th>\n",
       "      <th>DUBAI</th>\n",
       "      <th>BRENT</th>\n",
       "      <th>WTI</th>\n",
       "      <th>BDI_ADJ</th>\n",
       "      <th>PORT_SIZE</th>\n",
       "      <th>CI_HOUR</th>\n",
       "    </tr>\n",
       "  </thead>\n",
       "  <tbody>\n",
       "    <tr>\n",
       "      <th>41</th>\n",
       "      <td>0.000000</td>\n",
       "      <td>20.0</td>\n",
       "      <td>16</td>\n",
       "      <td>12100</td>\n",
       "      <td>10.0</td>\n",
       "      <td>10.0</td>\n",
       "      <td>9680</td>\n",
       "      <td>120.0</td>\n",
       "      <td>0.20</td>\n",
       "      <td>0.06</td>\n",
       "      <td>29.0</td>\n",
       "      <td>0.396605</td>\n",
       "      <td>18</td>\n",
       "      <td>79.57</td>\n",
       "      <td>82.56</td>\n",
       "      <td>78.93</td>\n",
       "      <td>4591.298598</td>\n",
       "      <td>0.000990</td>\n",
       "      <td>0.000000</td>\n",
       "    </tr>\n",
       "    <tr>\n",
       "      <th>57</th>\n",
       "      <td>0.000000</td>\n",
       "      <td>30.0</td>\n",
       "      <td>8</td>\n",
       "      <td>51100</td>\n",
       "      <td>20.0</td>\n",
       "      <td>10.0</td>\n",
       "      <td>30700</td>\n",
       "      <td>180.0</td>\n",
       "      <td>-0.13</td>\n",
       "      <td>0.51</td>\n",
       "      <td>5.1</td>\n",
       "      <td>0.734552</td>\n",
       "      <td>7</td>\n",
       "      <td>24.51</td>\n",
       "      <td>34.11</td>\n",
       "      <td>28.34</td>\n",
       "      <td>564.589694</td>\n",
       "      <td>0.000256</td>\n",
       "      <td>0.000000</td>\n",
       "    </tr>\n",
       "    <tr>\n",
       "      <th>70</th>\n",
       "      <td>4.104449</td>\n",
       "      <td>50.0</td>\n",
       "      <td>10</td>\n",
       "      <td>210000</td>\n",
       "      <td>20.0</td>\n",
       "      <td>20.0</td>\n",
       "      <td>107000</td>\n",
       "      <td>300.0</td>\n",
       "      <td>-0.52</td>\n",
       "      <td>0.21</td>\n",
       "      <td>7.7</td>\n",
       "      <td>0.766307</td>\n",
       "      <td>16</td>\n",
       "      <td>66.40</td>\n",
       "      <td>67.52</td>\n",
       "      <td>64.01</td>\n",
       "      <td>1684.323286</td>\n",
       "      <td>0.000479</td>\n",
       "      <td>28.005833</td>\n",
       "    </tr>\n",
       "    <tr>\n",
       "      <th>72</th>\n",
       "      <td>0.000000</td>\n",
       "      <td>20.0</td>\n",
       "      <td>25</td>\n",
       "      <td>10300</td>\n",
       "      <td>10.0</td>\n",
       "      <td>10.0</td>\n",
       "      <td>8310</td>\n",
       "      <td>140.0</td>\n",
       "      <td>-0.18</td>\n",
       "      <td>0.37</td>\n",
       "      <td>20.6</td>\n",
       "      <td>0.623373</td>\n",
       "      <td>6</td>\n",
       "      <td>73.43</td>\n",
       "      <td>75.19</td>\n",
       "      <td>73.08</td>\n",
       "      <td>2730.127968</td>\n",
       "      <td>0.000552</td>\n",
       "      <td>0.000000</td>\n",
       "    </tr>\n",
       "    <tr>\n",
       "      <th>85</th>\n",
       "      <td>12.831346</td>\n",
       "      <td>10.0</td>\n",
       "      <td>2</td>\n",
       "      <td>1700</td>\n",
       "      <td>10.0</td>\n",
       "      <td>0.0</td>\n",
       "      <td>500</td>\n",
       "      <td>60.0</td>\n",
       "      <td>0.65</td>\n",
       "      <td>0.28</td>\n",
       "      <td>16.7</td>\n",
       "      <td>0.894910</td>\n",
       "      <td>18</td>\n",
       "      <td>69.10</td>\n",
       "      <td>70.25</td>\n",
       "      <td>67.72</td>\n",
       "      <td>2227.826064</td>\n",
       "      <td>0.000479</td>\n",
       "      <td>36.974167</td>\n",
       "    </tr>\n",
       "    <tr>\n",
       "      <th>...</th>\n",
       "      <td>...</td>\n",
       "      <td>...</td>\n",
       "      <td>...</td>\n",
       "      <td>...</td>\n",
       "      <td>...</td>\n",
       "      <td>...</td>\n",
       "      <td>...</td>\n",
       "      <td>...</td>\n",
       "      <td>...</td>\n",
       "      <td>...</td>\n",
       "      <td>...</td>\n",
       "      <td>...</td>\n",
       "      <td>...</td>\n",
       "      <td>...</td>\n",
       "      <td>...</td>\n",
       "      <td>...</td>\n",
       "      <td>...</td>\n",
       "      <td>...</td>\n",
       "      <td>...</td>\n",
       "    </tr>\n",
       "    <tr>\n",
       "      <th>367238</th>\n",
       "      <td>0.000000</td>\n",
       "      <td>50.0</td>\n",
       "      <td>11</td>\n",
       "      <td>141000</td>\n",
       "      <td>30.0</td>\n",
       "      <td>20.0</td>\n",
       "      <td>142000</td>\n",
       "      <td>370.0</td>\n",
       "      <td>0.10</td>\n",
       "      <td>-0.28</td>\n",
       "      <td>27.3</td>\n",
       "      <td>0.501972</td>\n",
       "      <td>17</td>\n",
       "      <td>66.11</td>\n",
       "      <td>66.66</td>\n",
       "      <td>63.36</td>\n",
       "      <td>2449.106402</td>\n",
       "      <td>0.002615</td>\n",
       "      <td>0.000000</td>\n",
       "    </tr>\n",
       "    <tr>\n",
       "      <th>367269</th>\n",
       "      <td>9.988984</td>\n",
       "      <td>10.0</td>\n",
       "      <td>20</td>\n",
       "      <td>2400</td>\n",
       "      <td>10.0</td>\n",
       "      <td>10.0</td>\n",
       "      <td>1330</td>\n",
       "      <td>70.0</td>\n",
       "      <td>-0.35</td>\n",
       "      <td>-0.56</td>\n",
       "      <td>28.1</td>\n",
       "      <td>0.854524</td>\n",
       "      <td>4</td>\n",
       "      <td>113.21</td>\n",
       "      <td>117.98</td>\n",
       "      <td>111.76</td>\n",
       "      <td>1755.247808</td>\n",
       "      <td>0.000356</td>\n",
       "      <td>4.953056</td>\n",
       "    </tr>\n",
       "    <tr>\n",
       "      <th>367355</th>\n",
       "      <td>0.000000</td>\n",
       "      <td>30.0</td>\n",
       "      <td>4</td>\n",
       "      <td>62400</td>\n",
       "      <td>20.0</td>\n",
       "      <td>10.0</td>\n",
       "      <td>41400</td>\n",
       "      <td>200.0</td>\n",
       "      <td>0.62</td>\n",
       "      <td>-0.25</td>\n",
       "      <td>8.4</td>\n",
       "      <td>0.861521</td>\n",
       "      <td>21</td>\n",
       "      <td>108.58</td>\n",
       "      <td>110.23</td>\n",
       "      <td>104.24</td>\n",
       "      <td>1973.464626</td>\n",
       "      <td>0.000149</td>\n",
       "      <td>0.000000</td>\n",
       "    </tr>\n",
       "    <tr>\n",
       "      <th>367374</th>\n",
       "      <td>5.254744</td>\n",
       "      <td>10.0</td>\n",
       "      <td>16</td>\n",
       "      <td>2700</td>\n",
       "      <td>10.0</td>\n",
       "      <td>10.0</td>\n",
       "      <td>1990</td>\n",
       "      <td>80.0</td>\n",
       "      <td>-0.10</td>\n",
       "      <td>-0.64</td>\n",
       "      <td>15.2</td>\n",
       "      <td>0.843609</td>\n",
       "      <td>21</td>\n",
       "      <td>75.68</td>\n",
       "      <td>79.28</td>\n",
       "      <td>75.88</td>\n",
       "      <td>4415.591664</td>\n",
       "      <td>0.000128</td>\n",
       "      <td>9.346944</td>\n",
       "    </tr>\n",
       "    <tr>\n",
       "      <th>367402</th>\n",
       "      <td>0.000000</td>\n",
       "      <td>20.0</td>\n",
       "      <td>15</td>\n",
       "      <td>5200</td>\n",
       "      <td>10.0</td>\n",
       "      <td>10.0</td>\n",
       "      <td>2930</td>\n",
       "      <td>100.0</td>\n",
       "      <td>-0.74</td>\n",
       "      <td>-0.20</td>\n",
       "      <td>20.6</td>\n",
       "      <td>0.943821</td>\n",
       "      <td>5</td>\n",
       "      <td>92.12</td>\n",
       "      <td>92.34</td>\n",
       "      <td>86.53</td>\n",
       "      <td>1102.381325</td>\n",
       "      <td>0.000149</td>\n",
       "      <td>0.000000</td>\n",
       "    </tr>\n",
       "  </tbody>\n",
       "</table>\n",
       "<p>6973 rows × 19 columns</p>\n",
       "</div>"
      ],
      "text/plain": [
       "             DIST  BREADTH  BUILT  DEADWEIGHT  DEPTH  DRAUGHT      GT  LENGTH  \\\n",
       "41       0.000000     20.0     16       12100   10.0     10.0    9680   120.0   \n",
       "57       0.000000     30.0      8       51100   20.0     10.0   30700   180.0   \n",
       "70       4.104449     50.0     10      210000   20.0     20.0  107000   300.0   \n",
       "72       0.000000     20.0     25       10300   10.0     10.0    8310   140.0   \n",
       "85      12.831346     10.0      2        1700   10.0      0.0     500    60.0   \n",
       "...           ...      ...    ...         ...    ...      ...     ...     ...   \n",
       "367238   0.000000     50.0     11      141000   30.0     20.0  142000   370.0   \n",
       "367269   9.988984     10.0     20        2400   10.0     10.0    1330    70.0   \n",
       "367355   0.000000     30.0      4       62400   20.0     10.0   41400   200.0   \n",
       "367374   5.254744     10.0     16        2700   10.0     10.0    1990    80.0   \n",
       "367402   0.000000     20.0     15        5200   10.0     10.0    2930   100.0   \n",
       "\n",
       "        U_WIND  V_WIND  AIR_TEMPERATURE        BN  ATA_LT   DUBAI   BRENT  \\\n",
       "41        0.20    0.06             29.0  0.396605      18   79.57   82.56   \n",
       "57       -0.13    0.51              5.1  0.734552       7   24.51   34.11   \n",
       "70       -0.52    0.21              7.7  0.766307      16   66.40   67.52   \n",
       "72       -0.18    0.37             20.6  0.623373       6   73.43   75.19   \n",
       "85        0.65    0.28             16.7  0.894910      18   69.10   70.25   \n",
       "...        ...     ...              ...       ...     ...     ...     ...   \n",
       "367238    0.10   -0.28             27.3  0.501972      17   66.11   66.66   \n",
       "367269   -0.35   -0.56             28.1  0.854524       4  113.21  117.98   \n",
       "367355    0.62   -0.25              8.4  0.861521      21  108.58  110.23   \n",
       "367374   -0.10   -0.64             15.2  0.843609      21   75.68   79.28   \n",
       "367402   -0.74   -0.20             20.6  0.943821       5   92.12   92.34   \n",
       "\n",
       "           WTI      BDI_ADJ  PORT_SIZE    CI_HOUR  \n",
       "41       78.93  4591.298598   0.000990   0.000000  \n",
       "57       28.34   564.589694   0.000256   0.000000  \n",
       "70       64.01  1684.323286   0.000479  28.005833  \n",
       "72       73.08  2730.127968   0.000552   0.000000  \n",
       "85       67.72  2227.826064   0.000479  36.974167  \n",
       "...        ...          ...        ...        ...  \n",
       "367238   63.36  2449.106402   0.002615   0.000000  \n",
       "367269  111.76  1755.247808   0.000356   4.953056  \n",
       "367355  104.24  1973.464626   0.000149   0.000000  \n",
       "367374   75.88  4415.591664   0.000128   9.346944  \n",
       "367402   86.53  1102.381325   0.000149   0.000000  \n",
       "\n",
       "[6973 rows x 19 columns]"
      ]
     },
     "execution_count": 27,
     "metadata": {},
     "output_type": "execute_result"
    }
   ],
   "source": [
    "contin_train[(contin_train.BN > 0) & (contin_train.BN < 1)]"
   ]
  },
  {
   "cell_type": "code",
   "execution_count": 28,
   "metadata": {},
   "outputs": [],
   "source": [
    "def calculate_B_from_V(V):\n",
    "    B = (V / 0.836) ** (2/3)\n",
    "    return B\n",
    "\n",
    "contin_train['B'] = contin_train.BN.apply(lambda x:calculate_B_from_V(x))"
   ]
  },
  {
   "cell_type": "code",
   "execution_count": 29,
   "metadata": {},
   "outputs": [
    {
     "data": {
      "text/plain": [
       "<matplotlib.axes._subplots.AxesSubplot at 0x2321f931280>"
      ]
     },
     "execution_count": 29,
     "metadata": {},
     "output_type": "execute_result"
    },
    {
     "data": {
      "image/png": "[encoded data removed]",
      "text/plain": [
       "<Figure size 432x288 with 1 Axes>"
      ]
     },
     "metadata": {
      "needs_background": "light"
     },
     "output_type": "display_data"
    }
   ],
   "source": [
    "sns.histplot(x=contin_train['B'])"
   ]
  },
  {
   "cell_type": "code",
   "execution_count": 30,
   "metadata": {},
   "outputs": [
    {
     "name": "stdout",
     "output_type": "stream",
     "text": [
      "len(contin_train[(contin_train['WTI'] < 0)])=121\n",
      "len(contin_train[(contin_train['WTI'] < 0) & (contin_train['WTI'] == -37.63)])=121\n"
     ]
    }
   ],
   "source": [
    "print(f\"{len(contin_train[(contin_train['WTI'] < 0)])=}\")\n",
    "print(f\"{len(contin_train[(contin_train['WTI'] < 0) & (contin_train['WTI'] == -37.63)])=}\")"
   ]
  },
  {
   "cell_type": "code",
   "execution_count": 31,
   "metadata": {},
   "outputs": [
    {
     "name": "stdout",
     "output_type": "stream",
     "text": [
      "len(contin_train[(contin_train['WTI'] < 0) & (contin_train['WTI'] == -37.63)])=121\n"
     ]
    }
   ],
   "source": [
    "print(f\"{len(contin_train[(contin_train['WTI'] < 0) & (contin_train['WTI'] == -37.63)])=}\")"
   ]
  },
  {
   "cell_type": "code",
   "execution_count": 32,
   "metadata": {},
   "outputs": [
    {
     "data": {
      "text/plain": [
       "array([20.78])"
      ]
     },
     "execution_count": 32,
     "metadata": {},
     "output_type": "execute_result"
    }
   ],
   "source": [
    "contin_train[(contin_train['WTI'] == -37.63)].DUBAI.unique()"
   ]
  },
  {
   "cell_type": "code",
   "execution_count": 33,
   "metadata": {},
   "outputs": [
    {
     "data": {
      "text/plain": [
       "array([25.57])"
      ]
     },
     "execution_count": 33,
     "metadata": {},
     "output_type": "execute_result"
    }
   ],
   "source": [
    "contin_train[(contin_train['WTI'] == -37.63)].BRENT.unique()"
   ]
  },
  {
   "cell_type": "code",
   "execution_count": 34,
   "metadata": {},
   "outputs": [
    {
     "data": {
      "text/plain": [
       "<matplotlib.axes._subplots.AxesSubplot at 0x2321f8d2b50>"
      ]
     },
     "execution_count": 34,
     "metadata": {},
     "output_type": "execute_result"
    },
    {
     "data": {
      "image/png": "[encoded data removed]",
      "text/plain": [
       "<Figure size 432x288 with 1 Axes>"
      ]
     },
     "metadata": {
      "needs_background": "light"
     },
     "output_type": "display_data"
    }
   ],
   "source": [
    "sns.histplot(x=contin_train[(contin_train['CI_HOUR'] != 0)].CI_HOUR)"
   ]
  },
  {
   "cell_type": "code",
   "execution_count": 35,
   "metadata": {},
   "outputs": [
    {
     "data": {
      "text/plain": [
       "<matplotlib.axes._subplots.AxesSubplot at 0x2321dfce910>"
      ]
     },
     "execution_count": 35,
     "metadata": {},
     "output_type": "execute_result"
    },
    {
     "data": {
      "image/png": "[encoded data removed]",
      "text/plain": [
       "<Figure size 432x288 with 1 Axes>"
      ]
     },
     "metadata": {
      "needs_background": "light"
     },
     "output_type": "display_data"
    }
   ],
   "source": [
    "sns.histplot(x=contin_train[(contin_train['CI_HOUR'] >= 500)].CI_HOUR)"
   ]
  },
  {
   "cell_type": "code",
   "execution_count": 36,
   "metadata": {},
   "outputs": [
    {
     "data": {
      "text/plain": [
       "132805"
      ]
     },
     "execution_count": 36,
     "metadata": {},
     "output_type": "execute_result"
    }
   ],
   "source": [
    "len(contin_train[(contin_train['CI_HOUR'] != 0)])"
   ]
  },
  {
   "cell_type": "markdown",
   "metadata": {},
   "source": [
    "# 결측치 채우기"
   ]
  },
  {
   "cell_type": "code",
   "execution_count": 76,
   "metadata": {},
   "outputs": [
    {
     "data": {
      "text/plain": [
       "ARI_CO                     0\n",
       "ARI_PO                     0\n",
       "SHIP_TYPE_CATEGORY         0\n",
       "DIST                       0\n",
       "ATA                        0\n",
       "ID                         0\n",
       "BREADTH                    0\n",
       "BUILT                      0\n",
       "DEADWEIGHT                 0\n",
       "DEPTH                      0\n",
       "DRAUGHT                    0\n",
       "GT                         0\n",
       "LENGTH                     0\n",
       "SHIPMANAGER                0\n",
       "FLAG                       0\n",
       "U_WIND                101927\n",
       "V_WIND                101927\n",
       "AIR_TEMPERATURE       102511\n",
       "BN                    101927\n",
       "ATA_LT                     0\n",
       "DUBAI                      0\n",
       "BRENT                      0\n",
       "WTI                        0\n",
       "BDI_ADJ                    0\n",
       "PORT_SIZE                  0\n",
       "dtype: int64"
      ]
     },
     "execution_count": 76,
     "metadata": {},
     "output_type": "execute_result"
    }
   ],
   "source": [
    "test.isna().sum()"
   ]
  },
  {
   "cell_type": "code",
   "execution_count": 77,
   "metadata": {},
   "outputs": [
    {
     "data": {
      "text/plain": [
       "ARI_CO                     0\n",
       "ARI_PO                     0\n",
       "SHIP_TYPE_CATEGORY         0\n",
       "DIST                       0\n",
       "ATA                        0\n",
       "ID                         0\n",
       "BREADTH                    1\n",
       "BUILT                      0\n",
       "DEADWEIGHT                 0\n",
       "DEPTH                      1\n",
       "DRAUGHT                    1\n",
       "GT                         0\n",
       "LENGTH                     1\n",
       "SHIPMANAGER                0\n",
       "FLAG                       0\n",
       "U_WIND                153486\n",
       "V_WIND                153486\n",
       "AIR_TEMPERATURE       154365\n",
       "BN                    153486\n",
       "ATA_LT                     0\n",
       "DUBAI                      0\n",
       "BRENT                      0\n",
       "WTI                        0\n",
       "BDI_ADJ                    0\n",
       "PORT_SIZE                  0\n",
       "CI_HOUR                    0\n",
       "dtype: int64"
      ]
     },
     "execution_count": 77,
     "metadata": {},
     "output_type": "execute_result"
    }
   ],
   "source": [
    "train.isna().sum()"
   ]
  },
  {
   "cell_type": "code",
   "execution_count": 78,
   "metadata": {},
   "outputs": [
    {
     "data": {
      "text/plain": [
       "'A457875'"
      ]
     },
     "execution_count": 78,
     "metadata": {},
     "output_type": "execute_result"
    }
   ],
   "source": [
    "train[train.BREADTH.isna()].ID.values[0]"
   ]
  },
  {
   "cell_type": "code",
   "execution_count": 79,
   "metadata": {},
   "outputs": [
    {
     "data": {
      "text/html": [
       "<div>\n",
       "<style scoped>\n",
       "    .dataframe tbody tr th:only-of-type {\n",
       "        vertical-align: middle;\n",
       "    }\n",
       "\n",
       "    .dataframe tbody tr th {\n",
       "        vertical-align: top;\n",
       "    }\n",
       "\n",
       "    .dataframe thead th {\n",
       "        text-align: right;\n",
       "    }\n",
       "</style>\n",
       "<table border=\"1\" class=\"dataframe\">\n",
       "  <thead>\n",
       "    <tr style=\"text-align: right;\">\n",
       "      <th></th>\n",
       "      <th>ARI_CO</th>\n",
       "      <th>ARI_PO</th>\n",
       "      <th>SHIP_TYPE_CATEGORY</th>\n",
       "      <th>DIST</th>\n",
       "      <th>ATA</th>\n",
       "      <th>ID</th>\n",
       "      <th>BREADTH</th>\n",
       "      <th>BUILT</th>\n",
       "      <th>DEADWEIGHT</th>\n",
       "      <th>DEPTH</th>\n",
       "      <th>...</th>\n",
       "      <th>V_WIND</th>\n",
       "      <th>AIR_TEMPERATURE</th>\n",
       "      <th>BN</th>\n",
       "      <th>ATA_LT</th>\n",
       "      <th>DUBAI</th>\n",
       "      <th>BRENT</th>\n",
       "      <th>WTI</th>\n",
       "      <th>BDI_ADJ</th>\n",
       "      <th>PORT_SIZE</th>\n",
       "      <th>CI_HOUR</th>\n",
       "    </tr>\n",
       "  </thead>\n",
       "  <tbody>\n",
       "    <tr>\n",
       "      <th>23856</th>\n",
       "      <td>TW</td>\n",
       "      <td>JWI3</td>\n",
       "      <td>Cargo</td>\n",
       "      <td>0.0</td>\n",
       "      <td>2022-11-08 4:10</td>\n",
       "      <td>A457875</td>\n",
       "      <td>NaN</td>\n",
       "      <td>28</td>\n",
       "      <td>1500</td>\n",
       "      <td>NaN</td>\n",
       "      <td>...</td>\n",
       "      <td>-1.91</td>\n",
       "      <td>25.3</td>\n",
       "      <td>1.752807</td>\n",
       "      <td>12</td>\n",
       "      <td>92.34</td>\n",
       "      <td>95.36</td>\n",
       "      <td>88.91</td>\n",
       "      <td>1065.911239</td>\n",
       "      <td>0.00099</td>\n",
       "      <td>0.0</td>\n",
       "    </tr>\n",
       "  </tbody>\n",
       "</table>\n",
       "<p>1 rows × 26 columns</p>\n",
       "</div>"
      ],
      "text/plain": [
       "      ARI_CO ARI_PO SHIP_TYPE_CATEGORY  DIST              ATA       ID  \\\n",
       "23856     TW   JWI3              Cargo   0.0  2022-11-08 4:10  A457875   \n",
       "\n",
       "       BREADTH  BUILT  DEADWEIGHT  DEPTH  ...  V_WIND  AIR_TEMPERATURE  \\\n",
       "23856      NaN     28        1500    NaN  ...   -1.91             25.3   \n",
       "\n",
       "             BN ATA_LT  DUBAI  BRENT    WTI      BDI_ADJ  PORT_SIZE  CI_HOUR  \n",
       "23856  1.752807     12  92.34  95.36  88.91  1065.911239    0.00099      0.0  \n",
       "\n",
       "[1 rows x 26 columns]"
      ]
     },
     "execution_count": 79,
     "metadata": {},
     "output_type": "execute_result"
    }
   ],
   "source": [
    "train[train.ID == train[train.BREADTH.isna()].ID.values[0]]"
   ]
  },
  {
   "cell_type": "code",
   "execution_count": 80,
   "metadata": {},
   "outputs": [
    {
     "data": {
      "text/html": [
       "<div>\n",
       "<style scoped>\n",
       "    .dataframe tbody tr th:only-of-type {\n",
       "        vertical-align: middle;\n",
       "    }\n",
       "\n",
       "    .dataframe tbody tr th {\n",
       "        vertical-align: top;\n",
       "    }\n",
       "\n",
       "    .dataframe thead th {\n",
       "        text-align: right;\n",
       "    }\n",
       "</style>\n",
       "<table border=\"1\" class=\"dataframe\">\n",
       "  <thead>\n",
       "    <tr style=\"text-align: right;\">\n",
       "      <th></th>\n",
       "      <th>BREADTH</th>\n",
       "      <th>DEPTH</th>\n",
       "      <th>DRAUGHT</th>\n",
       "      <th>LENGTH</th>\n",
       "    </tr>\n",
       "  </thead>\n",
       "  <tbody>\n",
       "    <tr>\n",
       "      <th>23856</th>\n",
       "      <td>NaN</td>\n",
       "      <td>NaN</td>\n",
       "      <td>NaN</td>\n",
       "      <td>NaN</td>\n",
       "    </tr>\n",
       "  </tbody>\n",
       "</table>\n",
       "</div>"
      ],
      "text/plain": [
       "       BREADTH  DEPTH  DRAUGHT  LENGTH\n",
       "23856      NaN    NaN      NaN     NaN"
      ]
     },
     "execution_count": 80,
     "metadata": {},
     "output_type": "execute_result"
    }
   ],
   "source": [
    "train[train.BREADTH.isna()][['BREADTH', 'DEPTH', 'DRAUGHT', 'LENGTH']]"
   ]
  },
  {
   "cell_type": "code",
   "execution_count": 81,
   "metadata": {},
   "outputs": [],
   "source": [
    "train['BREADTH'].fillna(30.0, inplace=True)\n",
    "train['DEPTH'].fillna(20.0, inplace=True)\n",
    "train['DRAUGHT'].fillna(10.0, inplace=True)\n",
    "train['LENGTH'].fillna(train['LENGTH'].mean(), inplace=True)"
   ]
  },
  {
   "cell_type": "code",
   "execution_count": 82,
   "metadata": {},
   "outputs": [
    {
     "data": {
      "text/plain": [
       "ARI_CO                     0\n",
       "ARI_PO                     0\n",
       "SHIP_TYPE_CATEGORY         0\n",
       "DIST                       0\n",
       "ATA                        0\n",
       "ID                         0\n",
       "BREADTH                    0\n",
       "BUILT                      0\n",
       "DEADWEIGHT                 0\n",
       "DEPTH                      0\n",
       "DRAUGHT                    0\n",
       "GT                         0\n",
       "LENGTH                     0\n",
       "SHIPMANAGER                0\n",
       "FLAG                       0\n",
       "U_WIND                153486\n",
       "V_WIND                153486\n",
       "AIR_TEMPERATURE       154365\n",
       "BN                    153486\n",
       "ATA_LT                     0\n",
       "DUBAI                      0\n",
       "BRENT                      0\n",
       "WTI                        0\n",
       "BDI_ADJ                    0\n",
       "PORT_SIZE                  0\n",
       "CI_HOUR                    0\n",
       "dtype: int64"
      ]
     },
     "execution_count": 82,
     "metadata": {},
     "output_type": "execute_result"
    }
   ],
   "source": [
    "train.isna().sum()"
   ]
  },
  {
   "cell_type": "markdown",
   "metadata": {},
   "source": [
    "# 일부 칼럼 카테고리로 변경"
   ]
  },
  {
   "cell_type": "code",
   "execution_count": 83,
   "metadata": {},
   "outputs": [],
   "source": [
    "train['BREADTH'] = train['BREADTH'].astype(str)"
   ]
  },
  {
   "cell_type": "code",
   "execution_count": 84,
   "metadata": {},
   "outputs": [],
   "source": [
    "train['DEPTH'] = train['DEPTH'].astype(str)"
   ]
  },
  {
   "cell_type": "code",
   "execution_count": 85,
   "metadata": {},
   "outputs": [],
   "source": [
    "train['DEPTH'] = train['DEPTH'].astype(str)"
   ]
  },
  {
   "cell_type": "code",
   "execution_count": 86,
   "metadata": {},
   "outputs": [],
   "source": [
    "train['ATA_LT'] = train['ATA_LT'].astype(str)"
   ]
  },
  {
   "cell_type": "markdown",
   "metadata": {},
   "source": [
    "# feature engineering"
   ]
  },
  {
   "cell_type": "code",
   "execution_count": 88,
   "metadata": {},
   "outputs": [],
   "source": [
    "# domain based\n",
    "\n",
    "train['DENSITY'] = train['DEADWEIGHT'] / train['GT']"
   ]
  },
  {
   "cell_type": "code",
   "execution_count": 89,
   "metadata": {},
   "outputs": [],
   "source": [
    "def calculate_B_from_V(V):\n",
    "    B = (V / 0.836) ** (2/3)\n",
    "    return B"
   ]
  },
  {
   "cell_type": "code",
   "execution_count": 90,
   "metadata": {},
   "outputs": [],
   "source": [
    "# B는 보퍼트 풍력 계급 기반의 계급\n",
    "\n",
    "train['B'] = train.BN.apply(lambda x:calculate_B_from_V(x))"
   ]
  },
  {
   "cell_type": "code",
   "execution_count": 92,
   "metadata": {},
   "outputs": [
    {
     "data": {
      "text/plain": [
       "0          2020-10-15 4:03\n",
       "1          2019-09-17 2:55\n",
       "2          2019-02-23 6:43\n",
       "3         2020-09-18 22:06\n",
       "4         2022-08-13 12:57\n",
       "                ...       \n",
       "367436    2017-11-11 22:23\n",
       "367437     2022-04-29 2:58\n",
       "367438     2022-07-14 7:58\n",
       "367439    2020-12-22 10:07\n",
       "367440    2021-06-04 14:54\n",
       "Name: ATA, Length: 367441, dtype: object"
      ]
     },
     "execution_count": 92,
     "metadata": {},
     "output_type": "execute_result"
    }
   ],
   "source": [
    "train.ATA"
   ]
  },
  {
   "cell_type": "code",
   "execution_count": 96,
   "metadata": {},
   "outputs": [],
   "source": [
    "train['ATA'] = pd.to_datetime(train['ATA'])\n",
    "\n",
    "train['YEAR'] = train['ATA'].dt.year\n",
    "train['MONTH'] = train['ATA'].dt.month\n",
    "train['HOUR'] = train['ATA'].dt.hour"
   ]
  },
  {
   "cell_type": "code",
   "execution_count": 99,
   "metadata": {},
   "outputs": [
    {
     "data": {
      "text/plain": [
       "<matplotlib.axes._subplots.AxesSubplot at 0x232241f72e0>"
      ]
     },
     "execution_count": 99,
     "metadata": {},
     "output_type": "execute_result"
    },
    {
     "data": {
      "image/png": "[encoded data removed]",
      "text/plain": [
       "<Figure size 432x288 with 1 Axes>"
      ]
     },
     "metadata": {
      "needs_background": "light"
     },
     "output_type": "display_data"
    }
   ],
   "source": [
    "sns.histplot(x=train.ARI_CO)"
   ]
  },
  {
   "cell_type": "code",
   "execution_count": 100,
   "metadata": {},
   "outputs": [
    {
     "data": {
      "text/plain": [
       "<matplotlib.axes._subplots.AxesSubplot at 0x232473836a0>"
      ]
     },
     "execution_count": 100,
     "metadata": {},
     "output_type": "execute_result"
    },
    {
     "data": {
      "image/png": "[encoded data removed]",
      "text/plain": [
       "<Figure size 432x288 with 1 Axes>"
      ]
     },
     "metadata": {
      "needs_background": "light"
     },
     "output_type": "display_data"
    }
   ],
   "source": [
    "sns.histplot(x=train.ARI_PO)"
   ]
  },
  {
   "cell_type": "code",
   "execution_count": null,
   "metadata": {},
   "outputs": [],
   "source": [
    "train.drop(labels=['ATA'], axis=1, inplace=True)"
   ]
  },
  {
   "cell_type": "code",
   "execution_count": 112,
   "metadata": {},
   "outputs": [
    {
     "data": {
      "text/plain": [
       "ARI_CO                     0\n",
       "ARI_PO                     0\n",
       "SHIP_TYPE_CATEGORY         0\n",
       "DIST                       0\n",
       "ID                         0\n",
       "BREADTH                    0\n",
       "BUILT                      0\n",
       "DEADWEIGHT                 0\n",
       "DEPTH                      0\n",
       "DRAUGHT                    0\n",
       "GT                         0\n",
       "LENGTH                     0\n",
       "SHIPMANAGER                0\n",
       "FLAG                       0\n",
       "U_WIND                153486\n",
       "V_WIND                153486\n",
       "AIR_TEMPERATURE       154365\n",
       "BN                    153486\n",
       "ATA_LT                     0\n",
       "DUBAI                      0\n",
       "BRENT                      0\n",
       "WTI                        0\n",
       "BDI_ADJ                    0\n",
       "PORT_SIZE                  0\n",
       "CI_HOUR                    0\n",
       "DENSITY                    0\n",
       "B                     153486\n",
       "YEAR                       0\n",
       "MONTH                      0\n",
       "HOUR                       0\n",
       "dtype: int64"
      ]
     },
     "execution_count": 112,
     "metadata": {},
     "output_type": "execute_result"
    }
   ],
   "source": [
    "train.isna().sum()"
   ]
  },
  {
   "cell_type": "code",
   "execution_count": 111,
   "metadata": {},
   "outputs": [],
   "source": [
    "train.to_csv(\"./train_P0.csv\", index=False)"
   ]
  },
  {
   "cell_type": "code",
   "execution_count": null,
   "metadata": {},
   "outputs": [],
   "source": []
  }
 ],
 "metadata": {
  "kernelspec": {
   "display_name": "base",
   "language": "python",
   "name": "python3"
  },
  "language_info": {
   "codemirror_mode": {
    "name": "ipython",
    "version": 3
   },
   "file_extension": ".py",
   "mimetype": "text/x-python",
   "name": "python",
   "nbconvert_exporter": "python",
   "pygments_lexer": "ipython3",
   "version": "3.9.12"
  }
 },
 "nbformat": 4,
 "nbformat_minor": 2
}
